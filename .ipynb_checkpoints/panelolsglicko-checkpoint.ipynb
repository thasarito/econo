{
 "cells": [
  {
   "cell_type": "code",
   "execution_count": 1,
   "metadata": {
    "collapsed": true
   },
   "outputs": [],
   "source": [
    "%matplotlib inline\n",
    "# data analysis and wrangling\n",
    "import pandas as pd\n",
    "import numpy as np\n",
    "import random as rnd\n",
    "\n",
    "# visualization\n",
    "import seaborn as sns\n",
    "import matplotlib.pyplot as plt\n",
    "\n",
    "def plotPlayer(id):\n",
    "    player = id\n",
    "    fig = plt.figure(figsize=(10, 6))\n",
    "    ax = fig.gca()\n",
    "    df[df['id'] == player][['wrating', 'age']].set_index('age').sort_index().plot(ax=ax)\n",
    "    df[df['id'] == player][['rating', 'age']].set_index('age').sort_index().plot(ax=ax)\n",
    "    return (df[df['id'] == player][['wrating', 'tour', 'age', 'team', 'start']].set_index('age').sort_index())"
   ]
  },
  {
   "cell_type": "code",
   "execution_count": 2,
   "metadata": {
    "collapsed": true
   },
   "outputs": [],
   "source": [
    "df = pd.read_csv('glicko.csv', encoding = \"utf-8\")\n",
    "dob = pd.read_csv('dob.csv', encoding = \"utf-8\")\n",
    "dob.id = dob.id.str.replace(r'\\W+', '').str.lower()\n",
    "df = df.merge(dob, how='left', on=['id'])\n",
    "df = df.dropna().drop_duplicates(['id', 'tour'])\n",
    "\n",
    "#convert day to datetime type\n",
    "df.start = pd.to_datetime(df.start, format='%d/%m/%Y')\n",
    "df.end = pd.to_datetime(df.end, format='%d/%m/%Y')\n",
    "df.dob = pd.to_datetime(df.dob, format='%Y/%m/%d')\n",
    "\n",
    "#age\n",
    "df['age'] = (df.start - df.dob) / pd.Timedelta(days=365.25)\n",
    "\n",
    "#elo gain from each tournament\n",
    "df['diffr'] = df.endglicko2rating - df.startglicko2rating\n",
    "\n",
    "#cumulative sum of delo\n",
    "cumsums = df[['id', 'start', 'diffr']].groupby(['id', 'start']).sum().groupby(level=0).cumsum()\n",
    "df = df.set_index(['id', 'start'])\n",
    "df['cumur'] = cumsums\n",
    "df = df.reset_index()\n",
    "\n",
    "#droptourwithnoprize\n",
    "df = df[(df.prizeusd != 'Nan')]\n",
    "df.prizeusd = pd.to_numeric(df.prizeusd)\n",
    "\n",
    "#experience\n",
    "for player in df.id.unique():\n",
    "    try:\n",
    "        dfid = pd.DataFrame(df[df['id'] == player].sort_values('start').tour.unique()).reset_index().rename(columns={'index': 'exp', 0: 'tour'})\n",
    "        dfid['id'] = player\n",
    "        dfid2 = pd.concat([dfid2, dfid])\n",
    "    except NameError:\n",
    "        dfid2 = dfid\n",
    "        continue\n",
    "\n",
    "df = pd.merge(df, dfid2, how='left', on=['id', 'tour'])\n",
    "\n",
    "#init is rating + initial mmr (assume first team = player's calibration)\n",
    "init = df[df['startglicko2rating'].notnull()].sort_values('start')[['startglicko2rating', 'id']].groupby('id').first().reset_index().rename(columns={'startglicko2rating': 'init'})\n",
    "df = pd.merge(df, init, how='left', on='id')\n",
    "df['rating'] = df.cumur + df.init\n",
    "df.drop_duplicates(subset=['id', 'start'], inplace=True)\n",
    "df.dropna(inplace=True)\n"
   ]
  },
  {
   "cell_type": "code",
   "execution_count": 3,
   "metadata": {
    "collapsed": true
   },
   "outputs": [],
   "source": [
    "df['season'] = 'ti3'\n",
    "df.loc[(df.start > pd.to_datetime('2013-08-02')) & (df.start <= pd.to_datetime('2014-07-08')), 'season'] = 'ti4'\n",
    "df.loc[(df.start > pd.to_datetime('2014-07-08')) & (df.start <= pd.to_datetime('2015-07-27')), 'season'] = 'ti5'\n",
    "df.loc[(df.start > pd.to_datetime('2015-07-27')) & (df.start <= pd.to_datetime('2016-08-02')), 'season'] = 'ti6'\n",
    "df.loc[(df.start > pd.to_datetime('2016-08-02')) & (df.start <= pd.to_datetime('2017-08-02')), 'season'] = 'ti7'"
   ]
  },
  {
   "cell_type": "code",
   "execution_count": 4,
   "metadata": {
    "collapsed": true
   },
   "outputs": [],
   "source": [
    "df['tiprize'] = np.log(int(df[df['tour'] == 'The International 2013'].prizeusd.iloc[0]))\n",
    "df.loc[(df.season == 'ti4'), 'tiprize'] = np.log(int(df[df['tour'] == 'The International 2014'].prizeusd.iloc[0]))\n",
    "df.loc[(df.season == 'ti5'), 'tiprize'] = np.log(int(df[df['tour'] == 'The International 2015'].prizeusd.iloc[0]))\n",
    "df.loc[(df.season == 'ti6'), 'tiprize'] = np.log(int(df[df['tour'] == 'The International 2016'].prizeusd.iloc[0]))\n",
    "df.loc[(df.season == 'ti7'), 'tiprize'] = np.log(int(df[df['tour'] == 'The International 2017'].prizeusd.iloc[0]))\n",
    "\n",
    "df['wdiffr'] = (df.prizeusd.apply(np.log) / df.tiprize) * df.diffr\n",
    "\n",
    "#cumulative sum of wdiffr\n",
    "cumsums = df[['id', 'start', 'wdiffr']].groupby(['id', 'start']).sum().groupby(level=0).cumsum()\n",
    "df = df.set_index(['id', 'start'])\n",
    "df['cumuwr'] = cumsums\n",
    "df = df.reset_index()\n",
    "df['wrating'] = df.cumuwr + df.init"
   ]
  },
  {
   "cell_type": "code",
   "execution_count": 5,
   "metadata": {
    "collapsed": true
   },
   "outputs": [],
   "source": [
    "ent = pd.DataFrame(df.id.unique()).reset_index().rename(columns={'index': 'entity', 0: 'id'})\n",
    "df = ent.merge(df, on='id', how='left')"
   ]
  },
  {
   "cell_type": "code",
   "execution_count": 6,
   "metadata": {
    "collapsed": true
   },
   "outputs": [],
   "source": [
    "def panelOLSResult(df, Y, X):\n",
    "    from linearmodels import PanelOLS \n",
    "    panel_data = df.set_index(['entity', 'start']).sort_index()\n",
    "    panel_data['agesq'] = panel_data.age ** 2\n",
    "    panel_data['const'] = 1\n",
    "    panel_data['lexp'] = (panel_data['exp'] + 1).apply(np.log)\n",
    "    Y = panel_data[Y]\n",
    "    X = panel_data[X]\n",
    "    mod = PanelOLS(Y, X, entity_effects=True)\n",
    "    return mod.fit()\n",
    "\n",
    "def feResult(res):\n",
    "    fe = res.estimated_effects.reset_index().drop_duplicates().drop_duplicates(subset=['entity']).drop('time', 1)\n",
    "    return ent.merge(fe, on='entity').sort_values('estimated_effects', ascending=False)"
   ]
  },
  {
   "cell_type": "markdown",
   "metadata": {},
   "source": [
    "### Age and experience"
   ]
  },
  {
   "cell_type": "code",
   "execution_count": 7,
   "metadata": {},
   "outputs": [
    {
     "data": {
      "text/html": [
       "<div>\n",
       "<style>\n",
       "    .dataframe thead tr:only-child th {\n",
       "        text-align: right;\n",
       "    }\n",
       "\n",
       "    .dataframe thead th {\n",
       "        text-align: left;\n",
       "    }\n",
       "\n",
       "    .dataframe tbody tr th {\n",
       "        vertical-align: top;\n",
       "    }\n",
       "</style>\n",
       "<table border=\"1\" class=\"dataframe\">\n",
       "  <thead>\n",
       "    <tr style=\"text-align: right;\">\n",
       "      <th></th>\n",
       "      <th>wrating</th>\n",
       "      <th>age</th>\n",
       "      <th>exp</th>\n",
       "    </tr>\n",
       "  </thead>\n",
       "  <tbody>\n",
       "    <tr>\n",
       "      <th>count</th>\n",
       "      <td>5263.000000</td>\n",
       "      <td>5263.000000</td>\n",
       "      <td>5263.000000</td>\n",
       "    </tr>\n",
       "    <tr>\n",
       "      <th>mean</th>\n",
       "      <td>1759.027687</td>\n",
       "      <td>22.610797</td>\n",
       "      <td>17.963139</td>\n",
       "    </tr>\n",
       "    <tr>\n",
       "      <th>std</th>\n",
       "      <td>176.354218</td>\n",
       "      <td>2.527585</td>\n",
       "      <td>15.657956</td>\n",
       "    </tr>\n",
       "    <tr>\n",
       "      <th>min</th>\n",
       "      <td>1248.425945</td>\n",
       "      <td>15.739904</td>\n",
       "      <td>0.000000</td>\n",
       "    </tr>\n",
       "    <tr>\n",
       "      <th>25%</th>\n",
       "      <td>1638.206705</td>\n",
       "      <td>20.881588</td>\n",
       "      <td>5.000000</td>\n",
       "    </tr>\n",
       "    <tr>\n",
       "      <th>50%</th>\n",
       "      <td>1737.112933</td>\n",
       "      <td>22.663929</td>\n",
       "      <td>14.000000</td>\n",
       "    </tr>\n",
       "    <tr>\n",
       "      <th>75%</th>\n",
       "      <td>1866.791638</td>\n",
       "      <td>24.394251</td>\n",
       "      <td>27.000000</td>\n",
       "    </tr>\n",
       "    <tr>\n",
       "      <th>max</th>\n",
       "      <td>2275.313145</td>\n",
       "      <td>30.149213</td>\n",
       "      <td>75.000000</td>\n",
       "    </tr>\n",
       "  </tbody>\n",
       "</table>\n",
       "</div>"
      ],
      "text/plain": [
       "           wrating          age          exp\n",
       "count  5263.000000  5263.000000  5263.000000\n",
       "mean   1759.027687    22.610797    17.963139\n",
       "std     176.354218     2.527585    15.657956\n",
       "min    1248.425945    15.739904     0.000000\n",
       "25%    1638.206705    20.881588     5.000000\n",
       "50%    1737.112933    22.663929    14.000000\n",
       "75%    1866.791638    24.394251    27.000000\n",
       "max    2275.313145    30.149213    75.000000"
      ]
     },
     "execution_count": 7,
     "metadata": {},
     "output_type": "execute_result"
    }
   ],
   "source": [
    "df[['wrating', 'age', 'exp']].describe()"
   ]
  },
  {
   "cell_type": "code",
   "execution_count": 8,
   "metadata": {},
   "outputs": [],
   "source": [
    "res = panelOLSResult(df, 'wrating', ['age', 'agesq', 'lexp'])"
   ]
  },
  {
   "cell_type": "code",
   "execution_count": 9,
   "metadata": {
    "scrolled": false
   },
   "outputs": [
    {
     "data": {
      "text/html": [
       "<table class=\"simpletable\">\n",
       "<caption>PanelOLS Estimation Summary</caption>\n",
       "<tr>\n",
       "  <th>Dep. Variable:</th>         <td>wrating</td>     <th>  R-squared:         </th>     <td>0.2984</td>  \n",
       "</tr>\n",
       "<tr>\n",
       "  <th>Estimator:</th>            <td>PanelOLS</td>     <th>  R-squared (Between):</th>    <td>0.9899</td>  \n",
       "</tr>\n",
       "<tr>\n",
       "  <th>No. Observations:</th>       <td>5263</td>       <th>  R-squared (Within):</th>     <td>0.2984</td>  \n",
       "</tr>\n",
       "<tr>\n",
       "  <th>Date:</th>             <td>Mon, Feb 26 2018</td> <th>  R-squared (Overall):</th>    <td>0.9851</td>  \n",
       "</tr>\n",
       "<tr>\n",
       "  <th>Time:</th>                 <td>11:38:09</td>     <th>  Log-likelihood     </th>   <td>-3.043e+04</td>\n",
       "</tr>\n",
       "<tr>\n",
       "  <th>Cov. Estimator:</th>      <td>Unadjusted</td>    <th>                     </th>        <td></td>     \n",
       "</tr>\n",
       "<tr>\n",
       "  <th></th>                          <td></td>         <th>  F-statistic:       </th>     <td>706.28</td>  \n",
       "</tr>\n",
       "<tr>\n",
       "  <th>Entities:</th>                <td>278</td>       <th>  P-value            </th>     <td>0.0000</td>  \n",
       "</tr>\n",
       "<tr>\n",
       "  <th>Avg Obs:</th>               <td>18.932</td>      <th>  Distribution:      </th>    <td>F(3,4982)</td>\n",
       "</tr>\n",
       "<tr>\n",
       "  <th>Min Obs:</th>               <td>1.0000</td>      <th>                     </th>        <td></td>     \n",
       "</tr>\n",
       "<tr>\n",
       "  <th>Max Obs:</th>               <td>76.000</td>      <th>  F-statistic (robust):</th>   <td>706.28</td>  \n",
       "</tr>\n",
       "<tr>\n",
       "  <th></th>                          <td></td>         <th>  P-value            </th>     <td>0.0000</td>  \n",
       "</tr>\n",
       "<tr>\n",
       "  <th>Time periods:</th>            <td>215</td>       <th>  Distribution:      </th>    <td>F(3,4982)</td>\n",
       "</tr>\n",
       "<tr>\n",
       "  <th>Avg Obs:</th>               <td>24.479</td>      <th>                     </th>        <td></td>     \n",
       "</tr>\n",
       "<tr>\n",
       "  <th>Min Obs:</th>               <td>1.0000</td>      <th>                     </th>        <td></td>     \n",
       "</tr>\n",
       "<tr>\n",
       "  <th>Max Obs:</th>               <td>75.000</td>      <th>                     </th>        <td></td>     \n",
       "</tr>\n",
       "<tr>\n",
       "  <th></th>                          <td></td>         <th>                     </th>        <td></td>     \n",
       "</tr>\n",
       "</table>\n",
       "<table class=\"simpletable\">\n",
       "<caption>Parameter Estimates</caption>\n",
       "<tr>\n",
       "    <td></td>    <th>Parameter</th> <th>Std. Err.</th> <th>T-stat</th>  <th>P-value</th> <th>Lower CI</th> <th>Upper CI</th>\n",
       "</tr>\n",
       "<tr>\n",
       "  <th>age</th>    <td>125.04</td>    <td>13.113</td>   <td>9.5362</td>  <td>0.0000</td>   <td>99.337</td>   <td>150.75</td> \n",
       "</tr>\n",
       "<tr>\n",
       "  <th>agesq</th>  <td>-2.6051</td>   <td>0.2732</td>   <td>-9.5373</td> <td>0.0000</td>   <td>-3.1406</td>  <td>-2.0696</td>\n",
       "</tr>\n",
       "<tr>\n",
       "  <th>lexp</th>   <td>54.129</td>    <td>2.3651</td>   <td>22.887</td>  <td>0.0000</td>   <td>49.492</td>   <td>58.765</td> \n",
       "</tr>\n",
       "</table><br/><br/>F-test for Poolability: 47.548<br/>P-value: 0.0000<br/>Distribution: F(277,4982)<br/><br/>Included effects: Entity"
      ],
      "text/plain": [
       "<class 'linearmodels.compat.statsmodels.Summary'>\n",
       "\"\"\"\n",
       "                          PanelOLS Estimation Summary                           \n",
       "================================================================================\n",
       "Dep. Variable:                wrating   R-squared:                        0.2984\n",
       "Estimator:                   PanelOLS   R-squared (Between):              0.9899\n",
       "No. Observations:                5263   R-squared (Within):               0.2984\n",
       "Date:                Mon, Feb 26 2018   R-squared (Overall):              0.9851\n",
       "Time:                        11:38:09   Log-likelihood                -3.043e+04\n",
       "Cov. Estimator:            Unadjusted                                           \n",
       "                                        F-statistic:                      706.28\n",
       "Entities:                         278   P-value                           0.0000\n",
       "Avg Obs:                       18.932   Distribution:                  F(3,4982)\n",
       "Min Obs:                       1.0000                                           \n",
       "Max Obs:                       76.000   F-statistic (robust):             706.28\n",
       "                                        P-value                           0.0000\n",
       "Time periods:                     215   Distribution:                  F(3,4982)\n",
       "Avg Obs:                       24.479                                           \n",
       "Min Obs:                       1.0000                                           \n",
       "Max Obs:                       75.000                                           \n",
       "                                                                                \n",
       "                             Parameter Estimates                              \n",
       "==============================================================================\n",
       "            Parameter  Std. Err.     T-stat    P-value    Lower CI    Upper CI\n",
       "------------------------------------------------------------------------------\n",
       "age            125.04     13.113     9.5362     0.0000      99.337      150.75\n",
       "agesq         -2.6051     0.2732    -9.5373     0.0000     -3.1406     -2.0696\n",
       "lexp           54.129     2.3651     22.887     0.0000      49.492      58.765\n",
       "==============================================================================\n",
       "\n",
       "F-test for Poolability: 47.548\n",
       "P-value: 0.0000\n",
       "Distribution: F(277,4982)\n",
       "\n",
       "Included effects: Entity\n",
       "\"\"\""
      ]
     },
     "execution_count": 9,
     "metadata": {},
     "output_type": "execute_result"
    }
   ],
   "source": [
    "res.summary"
   ]
  },
  {
   "cell_type": "markdown",
   "metadata": {},
   "source": [
    "## $wrating = -2.6*age^2+125.04*age+54.129*log(lexp)$"
   ]
  },
  {
   "cell_type": "code",
   "execution_count": 10,
   "metadata": {},
   "outputs": [
    {
     "data": {
      "image/png": "[encoded data removed]",
      "text/plain": [
       "<matplotlib.figure.Figure at 0x1eb440df198>"
      ]
     },
     "metadata": {},
     "output_type": "display_data"
    }
   ],
   "source": [
    "# create 1000 equally spaced points between -10 and 10\n",
    "agex = np.linspace(15, 30, 1000)\n",
    "expx = np.linspace(1, 70, 1000)\n",
    "# calculate the y value for each element of the x vector\n",
    "age = res.params.agesq*agex**2 + res.params.age*agex \n",
    "exp = res.params.lexp*np.log(expx)\n",
    "\n",
    "fig, ax = plt.subplots(1, 2, figsize=(15, 5))\n",
    "ax[0].plot(agex, age)\n",
    "ax[0].set_title(\"Partial effect of Age\")\n",
    "ax[1].plot(expx, exp)\n",
    "ax[1].set_title(\"Partial effect of Exp\")\n",
    "plt.show()"
   ]
  },
  {
   "cell_type": "markdown",
   "metadata": {},
   "source": [
    "### Teammate effect\n",
    "teamrating = (average rating of all player in that team at that tournament * 5) - (that player rating)"
   ]
  },
  {
   "cell_type": "code",
   "execution_count": 11,
   "metadata": {},
   "outputs": [],
   "source": [
    "teameff = df.merge((df.groupby(['team', 'start']).mean()['wrating'] * 5).reset_index().rename(columns={'wrating': 'teamrating'}), on=['team', 'start'])\n",
    "teameff.teamrating = (teameff.teamrating - teameff.wrating) / 4"
   ]
  },
  {
   "cell_type": "code",
   "execution_count": 12,
   "metadata": {},
   "outputs": [
    {
     "data": {
      "text/html": [
       "<div>\n",
       "<style>\n",
       "    .dataframe thead tr:only-child th {\n",
       "        text-align: right;\n",
       "    }\n",
       "\n",
       "    .dataframe thead th {\n",
       "        text-align: left;\n",
       "    }\n",
       "\n",
       "    .dataframe tbody tr th {\n",
       "        vertical-align: top;\n",
       "    }\n",
       "</style>\n",
       "<table border=\"1\" class=\"dataframe\">\n",
       "  <thead>\n",
       "    <tr style=\"text-align: right;\">\n",
       "      <th></th>\n",
       "      <th>wrating</th>\n",
       "      <th>age</th>\n",
       "      <th>exp</th>\n",
       "      <th>teamrating</th>\n",
       "    </tr>\n",
       "  </thead>\n",
       "  <tbody>\n",
       "    <tr>\n",
       "      <th>count</th>\n",
       "      <td>5263.000000</td>\n",
       "      <td>5263.000000</td>\n",
       "      <td>5263.000000</td>\n",
       "      <td>5263.000000</td>\n",
       "    </tr>\n",
       "    <tr>\n",
       "      <th>mean</th>\n",
       "      <td>1759.027687</td>\n",
       "      <td>22.610797</td>\n",
       "      <td>17.963139</td>\n",
       "      <td>1759.027687</td>\n",
       "    </tr>\n",
       "    <tr>\n",
       "      <th>std</th>\n",
       "      <td>176.354218</td>\n",
       "      <td>2.527585</td>\n",
       "      <td>15.657956</td>\n",
       "      <td>138.176126</td>\n",
       "    </tr>\n",
       "    <tr>\n",
       "      <th>min</th>\n",
       "      <td>1248.425945</td>\n",
       "      <td>15.739904</td>\n",
       "      <td>0.000000</td>\n",
       "      <td>1314.801701</td>\n",
       "    </tr>\n",
       "    <tr>\n",
       "      <th>25%</th>\n",
       "      <td>1638.206705</td>\n",
       "      <td>20.881588</td>\n",
       "      <td>5.000000</td>\n",
       "      <td>1660.672060</td>\n",
       "    </tr>\n",
       "    <tr>\n",
       "      <th>50%</th>\n",
       "      <td>1737.112933</td>\n",
       "      <td>22.663929</td>\n",
       "      <td>14.000000</td>\n",
       "      <td>1751.102030</td>\n",
       "    </tr>\n",
       "    <tr>\n",
       "      <th>75%</th>\n",
       "      <td>1866.791638</td>\n",
       "      <td>24.394251</td>\n",
       "      <td>27.000000</td>\n",
       "      <td>1858.054422</td>\n",
       "    </tr>\n",
       "    <tr>\n",
       "      <th>max</th>\n",
       "      <td>2275.313145</td>\n",
       "      <td>30.149213</td>\n",
       "      <td>75.000000</td>\n",
       "      <td>2166.930237</td>\n",
       "    </tr>\n",
       "  </tbody>\n",
       "</table>\n",
       "</div>"
      ],
      "text/plain": [
       "           wrating          age          exp   teamrating\n",
       "count  5263.000000  5263.000000  5263.000000  5263.000000\n",
       "mean   1759.027687    22.610797    17.963139  1759.027687\n",
       "std     176.354218     2.527585    15.657956   138.176126\n",
       "min    1248.425945    15.739904     0.000000  1314.801701\n",
       "25%    1638.206705    20.881588     5.000000  1660.672060\n",
       "50%    1737.112933    22.663929    14.000000  1751.102030\n",
       "75%    1866.791638    24.394251    27.000000  1858.054422\n",
       "max    2275.313145    30.149213    75.000000  2166.930237"
      ]
     },
     "execution_count": 12,
     "metadata": {},
     "output_type": "execute_result"
    }
   ],
   "source": [
    "teameff[['wrating', 'age', 'exp', 'teamrating']].describe()"
   ]
  },
  {
   "cell_type": "code",
   "execution_count": 13,
   "metadata": {
    "collapsed": true
   },
   "outputs": [],
   "source": [
    "res = panelOLSResult(teameff, 'wrating', ['age', 'agesq', 'lexp', 'teamrating'])"
   ]
  },
  {
   "cell_type": "code",
   "execution_count": 14,
   "metadata": {
    "scrolled": false
   },
   "outputs": [
    {
     "data": {
      "text/html": [
       "<table class=\"simpletable\">\n",
       "<caption>PanelOLS Estimation Summary</caption>\n",
       "<tr>\n",
       "  <th>Dep. Variable:</th>         <td>wrating</td>     <th>  R-squared:         </th>     <td>0.4596</td>  \n",
       "</tr>\n",
       "<tr>\n",
       "  <th>Estimator:</th>            <td>PanelOLS</td>     <th>  R-squared (Between):</th>    <td>0.7732</td>  \n",
       "</tr>\n",
       "<tr>\n",
       "  <th>No. Observations:</th>       <td>5263</td>       <th>  R-squared (Within):</th>     <td>0.4596</td>  \n",
       "</tr>\n",
       "<tr>\n",
       "  <th>Date:</th>             <td>Mon, Feb 26 2018</td> <th>  R-squared (Overall):</th>    <td>0.8083</td>  \n",
       "</tr>\n",
       "<tr>\n",
       "  <th>Time:</th>                 <td>11:38:11</td>     <th>  Log-likelihood     </th>   <td>-2.974e+04</td>\n",
       "</tr>\n",
       "<tr>\n",
       "  <th>Cov. Estimator:</th>      <td>Unadjusted</td>    <th>                     </th>        <td></td>     \n",
       "</tr>\n",
       "<tr>\n",
       "  <th></th>                          <td></td>         <th>  F-statistic:       </th>     <td>1059.2</td>  \n",
       "</tr>\n",
       "<tr>\n",
       "  <th>Entities:</th>                <td>278</td>       <th>  P-value            </th>     <td>0.0000</td>  \n",
       "</tr>\n",
       "<tr>\n",
       "  <th>Avg Obs:</th>               <td>18.932</td>      <th>  Distribution:      </th>    <td>F(4,4981)</td>\n",
       "</tr>\n",
       "<tr>\n",
       "  <th>Min Obs:</th>               <td>1.0000</td>      <th>                     </th>        <td></td>     \n",
       "</tr>\n",
       "<tr>\n",
       "  <th>Max Obs:</th>               <td>76.000</td>      <th>  F-statistic (robust):</th>   <td>1059.2</td>  \n",
       "</tr>\n",
       "<tr>\n",
       "  <th></th>                          <td></td>         <th>  P-value            </th>     <td>0.0000</td>  \n",
       "</tr>\n",
       "<tr>\n",
       "  <th>Time periods:</th>            <td>215</td>       <th>  Distribution:      </th>    <td>F(4,4981)</td>\n",
       "</tr>\n",
       "<tr>\n",
       "  <th>Avg Obs:</th>               <td>24.479</td>      <th>                     </th>        <td></td>     \n",
       "</tr>\n",
       "<tr>\n",
       "  <th>Min Obs:</th>               <td>1.0000</td>      <th>                     </th>        <td></td>     \n",
       "</tr>\n",
       "<tr>\n",
       "  <th>Max Obs:</th>               <td>75.000</td>      <th>                     </th>        <td></td>     \n",
       "</tr>\n",
       "<tr>\n",
       "  <th></th>                          <td></td>         <th>                     </th>        <td></td>     \n",
       "</tr>\n",
       "</table>\n",
       "<table class=\"simpletable\">\n",
       "<caption>Parameter Estimates</caption>\n",
       "<tr>\n",
       "       <td></td>      <th>Parameter</th> <th>Std. Err.</th> <th>T-stat</th>  <th>P-value</th> <th>Lower CI</th> <th>Upper CI</th>\n",
       "</tr>\n",
       "<tr>\n",
       "  <th>age</th>         <td>134.00</td>    <td>11.511</td>   <td>11.641</td>  <td>0.0000</td>   <td>111.43</td>   <td>156.57</td> \n",
       "</tr>\n",
       "<tr>\n",
       "  <th>agesq</th>       <td>-2.5157</td>   <td>0.2398</td>   <td>-10.493</td> <td>0.0000</td>   <td>-2.9857</td>  <td>-2.0456</td>\n",
       "</tr>\n",
       "<tr>\n",
       "  <th>lexp</th>        <td>24.695</td>    <td>2.2118</td>   <td>11.165</td>  <td>0.0000</td>   <td>20.359</td>   <td>29.031</td> \n",
       "</tr>\n",
       "<tr>\n",
       "  <th>teamrating</th>  <td>0.4142</td>    <td>0.0107</td>   <td>38.552</td>  <td>0.0000</td>   <td>0.3932</td>   <td>0.4353</td> \n",
       "</tr>\n",
       "</table><br/><br/>F-test for Poolability: 45.157<br/>P-value: 0.0000<br/>Distribution: F(277,4981)<br/><br/>Included effects: Entity"
      ],
      "text/plain": [
       "<class 'linearmodels.compat.statsmodels.Summary'>\n",
       "\"\"\"\n",
       "                          PanelOLS Estimation Summary                           \n",
       "================================================================================\n",
       "Dep. Variable:                wrating   R-squared:                        0.4596\n",
       "Estimator:                   PanelOLS   R-squared (Between):              0.7732\n",
       "No. Observations:                5263   R-squared (Within):               0.4596\n",
       "Date:                Mon, Feb 26 2018   R-squared (Overall):              0.8083\n",
       "Time:                        11:38:11   Log-likelihood                -2.974e+04\n",
       "Cov. Estimator:            Unadjusted                                           \n",
       "                                        F-statistic:                      1059.2\n",
       "Entities:                         278   P-value                           0.0000\n",
       "Avg Obs:                       18.932   Distribution:                  F(4,4981)\n",
       "Min Obs:                       1.0000                                           \n",
       "Max Obs:                       76.000   F-statistic (robust):             1059.2\n",
       "                                        P-value                           0.0000\n",
       "Time periods:                     215   Distribution:                  F(4,4981)\n",
       "Avg Obs:                       24.479                                           \n",
       "Min Obs:                       1.0000                                           \n",
       "Max Obs:                       75.000                                           \n",
       "                                                                                \n",
       "                             Parameter Estimates                              \n",
       "==============================================================================\n",
       "            Parameter  Std. Err.     T-stat    P-value    Lower CI    Upper CI\n",
       "------------------------------------------------------------------------------\n",
       "age            134.00     11.511     11.641     0.0000      111.43      156.57\n",
       "agesq         -2.5157     0.2398    -10.493     0.0000     -2.9857     -2.0456\n",
       "lexp           24.695     2.2118     11.165     0.0000      20.359      29.031\n",
       "teamrating     0.4142     0.0107     38.552     0.0000      0.3932      0.4353\n",
       "==============================================================================\n",
       "\n",
       "F-test for Poolability: 45.157\n",
       "P-value: 0.0000\n",
       "Distribution: F(277,4981)\n",
       "\n",
       "Included effects: Entity\n",
       "\"\"\""
      ]
     },
     "execution_count": 14,
     "metadata": {},
     "output_type": "execute_result"
    }
   ],
   "source": [
    "res.summary"
   ]
  },
  {
   "cell_type": "markdown",
   "metadata": {},
   "source": [
    "## $wrating = -2.5157*age^2+134*age+24.695*log(lexp)+0.4142*teammaterating$"
   ]
  },
  {
   "cell_type": "code",
   "execution_count": 15,
   "metadata": {},
   "outputs": [
    {
     "data": {
      "image/png": "[encoded data removed]",
      "text/plain": [
       "<matplotlib.figure.Figure at 0x1eb43930da0>"
      ]
     },
     "metadata": {},
     "output_type": "display_data"
    }
   ],
   "source": [
    "# create 1000 equally spaced points between -10 and 10\n",
    "agex = np.linspace(15, 30, 1000)\n",
    "expx = np.linspace(1, 70, 1000)\n",
    "teamx = np.linspace(1300, 2200, 1000)\n",
    "# calculate the y value for each element of the x vector\n",
    "age = res.params.agesq*agex**2 + res.params.age*agex \n",
    "exp = res.params.lexp*np.log(expx)\n",
    "team = res.params.teamrating*teamx \n",
    "\n",
    "fig, ax = plt.subplots(2, 2, figsize=(15, 10))\n",
    "ax[0, 0].plot(agex, age)\n",
    "ax[0, 0].set_title(\"Partial effect of Age\")\n",
    "ax[0, 1].plot(expx, exp)\n",
    "ax[0, 1].set_title(\"Partial effect of Exp\")\n",
    "ax[1, 0].plot(teamx, team)\n",
    "ax[1, 0].set_title(\"Partial effect of Teammate Performance\")\n",
    "ax[1, 1].axis('off')\n",
    "\n",
    "plt.show()"
   ]
  }
 ],
 "metadata": {
  "kernelspec": {
   "display_name": "Python 3",
   "language": "python",
   "name": "python3"
  },
  "language_info": {
   "codemirror_mode": {
    "name": "ipython",
    "version": 3
   },
   "file_extension": ".py",
   "mimetype": "text/x-python",
   "name": "python",
   "nbconvert_exporter": "python",
   "pygments_lexer": "ipython3",
   "version": "3.6.3"
  }
 },
 "nbformat": 4,
 "nbformat_minor": 2
}
