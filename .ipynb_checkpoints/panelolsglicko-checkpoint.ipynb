{
 "cells": [
  {
   "cell_type": "code",
   "execution_count": null,
   "metadata": {
    "collapsed": true
   },
   "outputs": [],
   "source": [
    "%matplotlib inline\n",
    "# data analysis and wrangling\n",
    "import pandas as pd\n",
    "import numpy as np\n",
    "import random as rnd\n",
    "\n",
    "# visualization\n",
    "import seaborn as sns\n",
    "import matplotlib.pyplot as plt\n",
    "\n",
    "def plotPlayer(id):\n",
    "    player = id\n",
    "    fig = plt.figure(figsize=(10, 6))\n",
    "    ax = fig.gca()\n",
    "    df[df['id'] == player][['wrating', 'age']].set_index('age').sort_index().plot(ax=ax)\n",
    "    df[df['id'] == player][['rating', 'age']].set_index('age').sort_index().plot(ax=ax)\n",
    "    return (df[df['id'] == player][['wrating', 'tour', 'age', 'team', 'start']].set_index('age').sort_index())"
   ]
  },
  {
   "cell_type": "code",
   "execution_count": null,
   "metadata": {
    "collapsed": true
   },
   "outputs": [],
   "source": [
    "def load_csv(system):\n",
    "    df = pd.read_csv(system + '.csv', encoding=\"utf-8\")\n",
    "    df.start = pd.to_datetime(df.start, format='%d/%m/%Y')\n",
    "    df.end = pd.to_datetime(df.end, format='%d/%m/%Y')\n",
    "    dob = pd.read_csv('dob.csv', encoding=\"utf-8\")\n",
    "    dob.id = dob.id.str.replace(r'\\W+', '').str.lower()\n",
    "    return df, dob\n",
    "\n",
    "def cumulativeRating(diff, ratingName, df):\n",
    "    cumsums = df[['id', 'start', diff]].groupby(['id', 'start']).sum().groupby(level=0).cumsum()\n",
    "    df = df.set_index(['id', 'start'])\n",
    "    df['cumur'] = cumsums\n",
    "    df = df.reset_index()\n",
    "    init = df[df['startglicko2rating'].notnull()].sort_values('start')[['startglicko2rating', 'id']].groupby('id').first().reset_index().rename(columns={'startglicko2rating': 'init'})\n",
    "    df = pd.merge(df, init, how='left', on='id')\n",
    "    df[ratingName] = df.cumur + df.init\n",
    "    return df\n",
    "\n",
    "def teamRating(rating, df):\n",
    "    teameff = df.merge((df.groupby(['team', 'start']).mean()[rating] * 5).reset_index().rename(columns={rating: 'teamrating'}), on=['team', 'start'])\n",
    "    teameff.teamrating = (teameff.teamrating - teameff[rating]) / 4\n",
    "    return teameff\n",
    "\n",
    "def experience(df):\n",
    "    dfid2 = pd.DataFrame()\n",
    "    for player in df.id.unique():\n",
    "        dfid = pd.DataFrame(df[df['id'] == player].sort_values('start').tour.unique()).reset_index().rename(columns={'index': 'exp', 0: 'tour'})\n",
    "        dfid['id'] = player\n",
    "        dfid2 = pd.concat([dfid2, dfid])\n",
    "    return pd.merge(df, dfid2, how='left', on=['id', 'tour'])\n",
    "    \n",
    "def dobMerge(df, dob):\n",
    "    dob.id = dob.id.str.replace(r'\\W+', '').str.lower()\n",
    "    df = df.merge(dob, how='left', on=['id'])\n",
    "    df.dob = pd.to_datetime(df.dob, format='%Y/%m/%d')\n",
    "    df['age'] = (df.start - df.dob) / pd.Timedelta(days=365.25)\n",
    "    return df"
   ]
  },
  {
   "cell_type": "code",
   "execution_count": null,
   "metadata": {
    "collapsed": true
   },
   "outputs": [],
   "source": [
    "df, dob = load_csv('glickoandprize')\n",
    "df['diffr'] = df.endglicko2rating - df.startglicko2rating\n",
    "df = cumulativeRating('diffr', 'normalRating', df)\n",
    "df = teamRating('normalRating', df)\n",
    "df = experience(df)\n",
    "df.drop_duplicates(subset=['id', 'start'], inplace=True)\n",
    "df.dropna(inplace=True)\n",
    "df = dobMerge(df, dob)\n",
    "df.dropna(inplace=True)\n",
    "df = df[(df.prizepool != 'Nan')]\n",
    "df.prizepool = pd.to_numeric(df.prizepool)\n",
    "df.prizeusd = pd.to_numeric(df.prizeusd.str.replace(r'\\D', ''))"
   ]
  },
  {
   "cell_type": "code",
   "execution_count": null,
   "metadata": {
    "collapsed": true
   },
   "outputs": [],
   "source": [
    "df['season'] = 'ti3'\n",
    "df.loc[(df.start > pd.to_datetime('2013-08-02')) & (df.start <= pd.to_datetime('2014-07-08')), 'season'] = 'ti4'\n",
    "df.loc[(df.start > pd.to_datetime('2014-07-08')) & (df.start <= pd.to_datetime('2015-07-27')), 'season'] = 'ti5'\n",
    "df.loc[(df.start > pd.to_datetime('2015-07-27')) & (df.start <= pd.to_datetime('2016-08-02')), 'season'] = 'ti6'\n",
    "df.loc[(df.start > pd.to_datetime('2016-08-02')) & (df.start <= pd.to_datetime('2017-08-02')), 'season'] = 'ti7'"
   ]
  },
  {
   "cell_type": "code",
   "execution_count": null,
   "metadata": {
    "collapsed": true
   },
   "outputs": [],
   "source": [
    "df['tiprize'] = np.log(int(df[df['tour'] == 'The International 2013'].prizepool.iloc[0]))\n",
    "df.loc[(df.season == 'ti4'), 'tiprize'] = np.log(int(df[df['tour'] == 'The International 2014'].prizepool.iloc[0]))\n",
    "df.loc[(df.season == 'ti5'), 'tiprize'] = np.log(int(df[df['tour'] == 'The International 2015'].prizepool.iloc[0]))\n",
    "df.loc[(df.season == 'ti6'), 'tiprize'] = np.log(int(df[df['tour'] == 'The International 2016'].prizepool.iloc[0]))\n",
    "df.loc[(df.season == 'ti7'), 'tiprize'] = np.log(int(df[df['tour'] == 'The International 2017'].prizepool.iloc[0]))\n",
    "\n",
    "df['wdiffr'] = (df.prizepool.apply(np.log) / df.tiprize) * df.diffr\n",
    "\n",
    "#cumulative sum of wdiffr\n",
    "cumsums = df[['id', 'start', 'wdiffr']].groupby(['id', 'start']).sum().groupby(level=0).cumsum()\n",
    "df = df.set_index(['id', 'start'])\n",
    "df['cumuwr'] = cumsums\n",
    "df = df.reset_index()\n",
    "df['perf'] = df.cumuwr + df.init"
   ]
  },
  {
   "cell_type": "code",
   "execution_count": null,
   "metadata": {
    "collapsed": true
   },
   "outputs": [],
   "source": [
    "ent = pd.DataFrame(df.id.unique()).reset_index().rename(columns={'index': 'entity', 0: 'id'})\n",
    "df = ent.merge(df, on='id', how='left')"
   ]
  },
  {
   "cell_type": "code",
   "execution_count": 16,
   "metadata": {
    "collapsed": true
   },
   "outputs": [],
   "source": [
    "pd.set_option('float_format', '{:f}'.format)"
   ]
  },
  {
   "cell_type": "code",
   "execution_count": null,
   "metadata": {
    "collapsed": true
   },
   "outputs": [],
   "source": [
    "pf = df[['tour', 'team', 'prizepool', 'prizeusd', 'pos', 'perf']]"
   ]
  },
  {
   "cell_type": "code",
   "execution_count": null,
   "metadata": {
    "collapsed": true
   },
   "outputs": [],
   "source": [
    "grouped = pf.groupby(['tour', 'team'])"
   ]
  },
  {
   "cell_type": "code",
   "execution_count": 23,
   "metadata": {},
   "outputs": [],
   "source": [
    "df2 = pd.read_csv('glickoandprize.csv', encoding=\"utf-8\")\n",
    "df2.start = pd.to_datetime(df2.start, format='%d/%m/%Y')\n",
    "df2.end = pd.to_datetime(df2.end, format='%d/%m/%Y')\n",
    "df2['diffr'] = df2.endglicko2rating - df2.startglicko2rating\n",
    "df2 = cumulativeRating('diffr', 'normalRating', df2)\n",
    "df2 = teamRating('normalRating', df2)\n",
    "df2 = experience(df2)\n",
    "#df2.drop_duplicates(subset=['id', 'start'], inplace=True)\n",
    "#df2.dropna(inplace=True)\n",
    "df2.prizepool = pd.to_numeric(df2.prizepool, errors='coerce')\n",
    "df2.prizeusd = pd.to_numeric(df2.prizeusd.str.replace(r'\\D', ''), errors='coerce')"
   ]
  },
  {
   "cell_type": "code",
   "execution_count": 24,
   "metadata": {},
   "outputs": [],
   "source": [
    "df2['season'] = 'ti3'\n",
    "df2.loc[(df2.start > pd.to_datetime('2013-08-02')) & (df2.start <= pd.to_datetime('2014-07-08')), 'season'] = 'ti4'\n",
    "df2.loc[(df2.start > pd.to_datetime('2014-07-08')) & (df2.start <= pd.to_datetime('2015-07-27')), 'season'] = 'ti5'\n",
    "df2.loc[(df2.start > pd.to_datetime('2015-07-27')) & (df2.start <= pd.to_datetime('2016-08-02')), 'season'] = 'ti6'\n",
    "df2.loc[(df2.start > pd.to_datetime('2016-08-02')) & (df2.start <= pd.to_datetime('2017-08-02')), 'season'] = 'ti7'\n",
    "\n",
    "df2['tiprize'] = np.log(int(df2[df2['tour'] == 'The International 2013'].prizepool.iloc[0]))\n",
    "df2.loc[(df2.season == 'ti4'), 'tiprize'] = np.log(int(df2[df2['tour'] == 'The International 2014'].prizepool.iloc[0]))\n",
    "df2.loc[(df2.season == 'ti5'), 'tiprize'] = np.log(int(df2[df2['tour'] == 'The International 2015'].prizepool.iloc[0]))\n",
    "df2.loc[(df2.season == 'ti6'), 'tiprize'] = np.log(int(df2[df2['tour'] == 'The International 2016'].prizepool.iloc[0]))\n",
    "df2.loc[(df2.season == 'ti7'), 'tiprize'] = np.log(int(df2[df2['tour'] == 'The International 2017'].prizepool.iloc[0]))\n",
    "\n",
    "df2['wdiffr'] = (df2.prizepool.apply(np.log) / df2.tiprize) * df2.diffr\n",
    "\n",
    "#cumulative sum of wdiffr\n",
    "cumsums = df2[['id', 'start', 'wdiffr']].groupby(['id', 'start']).sum().groupby(level=0).cumsum()\n",
    "df2 = df2.set_index(['id', 'start'])\n",
    "df2['cumuwr'] = cumsums\n",
    "df2 = df2.reset_index()\n",
    "df2['perf'] = df2.cumuwr + df2.init"
   ]
  },
  {
   "cell_type": "code",
   "execution_count": 25,
   "metadata": {},
   "outputs": [],
   "source": [
    "grouped = df2.groupby(['tour', 'team'])"
   ]
  },
  {
   "cell_type": "code",
   "execution_count": 26,
   "metadata": {},
   "outputs": [],
   "source": [
    "pf = pd.DataFrame(columns=['tour', 'team', 'prizepool', 'prizeusd', 'perf1', 'perf2', 'perf3', 'perf4', 'perf5'])\n",
    "for name, group in grouped:\n",
    "    try:\n",
    "        perf1 = group[group.pos == 1].perf.iloc[0]\n",
    "    except:\n",
    "        perf1 = np.nan\n",
    "    try:\n",
    "        perf2 = group[group.pos == 2].perf.iloc[0]\n",
    "    except:\n",
    "        perf2 = np.nan\n",
    "    try:\n",
    "        perf3 = group[group.pos == 3].perf.iloc[0]\n",
    "    except:\n",
    "        perf3 = np.nan\n",
    "    try:\n",
    "        perf4 = group[group.pos == 4].perf.iloc[0]\n",
    "    except:\n",
    "        perf4 = np.nan\n",
    "    try:\n",
    "        perf5 = group[group.pos == 5].perf.iloc[0]\n",
    "    except:\n",
    "        perf5 = np.nan\n",
    "    pf = pf.append({'tour': name[0],\n",
    "                    'team': name[1],\n",
    "                    'prizepool': group.prizepool.iloc[0],\n",
    "                    'prizeusd': group.prizeusd.iloc[0],\n",
    "                    'perf1': perf1,\n",
    "                    'perf2': perf2,\n",
    "                    'perf3': perf3,\n",
    "                    'perf4': perf4,\n",
    "                    'perf5': perf5 \n",
    "                   }, ignore_index=True)"
   ]
  },
  {
   "cell_type": "code",
   "execution_count": 28,
   "metadata": {},
   "outputs": [
    {
     "data": {
      "text/html": [
       "<div>\n",
       "<style>\n",
       "    .dataframe thead tr:only-child th {\n",
       "        text-align: right;\n",
       "    }\n",
       "\n",
       "    .dataframe thead th {\n",
       "        text-align: left;\n",
       "    }\n",
       "\n",
       "    .dataframe tbody tr th {\n",
       "        vertical-align: top;\n",
       "    }\n",
       "</style>\n",
       "<table border=\"1\" class=\"dataframe\">\n",
       "  <thead>\n",
       "    <tr style=\"text-align: right;\">\n",
       "      <th></th>\n",
       "      <th>prizepool</th>\n",
       "      <th>perf1</th>\n",
       "      <th>perf2</th>\n",
       "      <th>perf3</th>\n",
       "      <th>perf4</th>\n",
       "      <th>perf5</th>\n",
       "    </tr>\n",
       "  </thead>\n",
       "  <tbody>\n",
       "    <tr>\n",
       "      <th>count</th>\n",
       "      <td>2426.000000</td>\n",
       "      <td>1350.000000</td>\n",
       "      <td>1353.000000</td>\n",
       "      <td>1355.000000</td>\n",
       "      <td>1352.000000</td>\n",
       "      <td>1350.000000</td>\n",
       "    </tr>\n",
       "    <tr>\n",
       "      <th>mean</th>\n",
       "      <td>800643.072188</td>\n",
       "      <td>1750.933113</td>\n",
       "      <td>1750.271083</td>\n",
       "      <td>1730.951543</td>\n",
       "      <td>1730.042361</td>\n",
       "      <td>1742.231033</td>\n",
       "    </tr>\n",
       "    <tr>\n",
       "      <th>std</th>\n",
       "      <td>3322942.362659</td>\n",
       "      <td>188.435104</td>\n",
       "      <td>185.421679</td>\n",
       "      <td>168.628818</td>\n",
       "      <td>177.359705</td>\n",
       "      <td>186.058371</td>\n",
       "    </tr>\n",
       "    <tr>\n",
       "      <th>min</th>\n",
       "      <td>4410.000000</td>\n",
       "      <td>1246.326593</td>\n",
       "      <td>1246.326593</td>\n",
       "      <td>1246.326593</td>\n",
       "      <td>1210.722728</td>\n",
       "      <td>1246.326593</td>\n",
       "    </tr>\n",
       "    <tr>\n",
       "      <th>25%</th>\n",
       "      <td>24186.000000</td>\n",
       "      <td>1628.984794</td>\n",
       "      <td>1633.912551</td>\n",
       "      <td>1622.841904</td>\n",
       "      <td>1614.004591</td>\n",
       "      <td>1613.233619</td>\n",
       "    </tr>\n",
       "    <tr>\n",
       "      <th>50%</th>\n",
       "      <td>56620.000000</td>\n",
       "      <td>1726.082309</td>\n",
       "      <td>1733.807511</td>\n",
       "      <td>1713.811901</td>\n",
       "      <td>1717.366340</td>\n",
       "      <td>1719.538884</td>\n",
       "    </tr>\n",
       "    <tr>\n",
       "      <th>75%</th>\n",
       "      <td>154823.000000</td>\n",
       "      <td>1854.199452</td>\n",
       "      <td>1846.411378</td>\n",
       "      <td>1838.800066</td>\n",
       "      <td>1833.805031</td>\n",
       "      <td>1860.333887</td>\n",
       "    </tr>\n",
       "    <tr>\n",
       "      <th>max</th>\n",
       "      <td>24787916.000000</td>\n",
       "      <td>2275.504433</td>\n",
       "      <td>2302.498188</td>\n",
       "      <td>2189.346079</td>\n",
       "      <td>2221.721176</td>\n",
       "      <td>2197.749410</td>\n",
       "    </tr>\n",
       "  </tbody>\n",
       "</table>\n",
       "</div>"
      ],
      "text/plain": [
       "            prizepool       perf1       perf2       perf3       perf4  \\\n",
       "count     2426.000000 1350.000000 1353.000000 1355.000000 1352.000000   \n",
       "mean    800643.072188 1750.933113 1750.271083 1730.951543 1730.042361   \n",
       "std    3322942.362659  188.435104  185.421679  168.628818  177.359705   \n",
       "min       4410.000000 1246.326593 1246.326593 1246.326593 1210.722728   \n",
       "25%      24186.000000 1628.984794 1633.912551 1622.841904 1614.004591   \n",
       "50%      56620.000000 1726.082309 1733.807511 1713.811901 1717.366340   \n",
       "75%     154823.000000 1854.199452 1846.411378 1838.800066 1833.805031   \n",
       "max   24787916.000000 2275.504433 2302.498188 2189.346079 2221.721176   \n",
       "\n",
       "            perf5  \n",
       "count 1350.000000  \n",
       "mean  1742.231033  \n",
       "std    186.058371  \n",
       "min   1246.326593  \n",
       "25%   1613.233619  \n",
       "50%   1719.538884  \n",
       "75%   1860.333887  \n",
       "max   2197.749410  "
      ]
     },
     "execution_count": 28,
     "metadata": {},
     "output_type": "execute_result"
    }
   ],
   "source": [
    "pf.describe()"
   ]
  },
  {
   "cell_type": "code",
   "execution_count": null,
   "metadata": {
    "collapsed": true
   },
   "outputs": [],
   "source": [
    "def panelOLSResult(df, Y, X):\n",
    "    from linearmodels import PanelOLS \n",
    "    panel_data = df.set_index(['entity', 'start']).sort_index()\n",
    "    panel_data['agesq'] = panel_data.age ** 2\n",
    "    panel_data['const'] = 1\n",
    "    panel_data['lexp'] = (panel_data['exp'] + 1).apply(np.log)\n",
    "    Y = panel_data[Y]\n",
    "    X = panel_data[X]\n",
    "    mod = PanelOLS(Y, X, entity_effects=True)\n",
    "    return mod.fit()\n",
    "\n",
    "def feResult(res):\n",
    "    fe = res.estimated_effects.reset_index().drop_duplicates().drop_duplicates(subset=['entity']).drop('time', 1)\n",
    "    return ent.merge(fe, on='entity').sort_values('estimated_effects', ascending=False)"
   ]
  },
  {
   "cell_type": "markdown",
   "metadata": {},
   "source": [
    "### Age and experience"
   ]
  },
  {
   "cell_type": "code",
   "execution_count": null,
   "metadata": {},
   "outputs": [],
   "source": [
    "df[['wrating', 'age', 'exp']].describe()"
   ]
  },
  {
   "cell_type": "code",
   "execution_count": null,
   "metadata": {
    "collapsed": true
   },
   "outputs": [],
   "source": [
    "res = panelOLSResult(df, 'wrating', ['age', 'agesq', 'lexp'])"
   ]
  },
  {
   "cell_type": "code",
   "execution_count": null,
   "metadata": {},
   "outputs": [],
   "source": [
    "res.summary"
   ]
  },
  {
   "cell_type": "markdown",
   "metadata": {},
   "source": [
    "## $wrating = -2.6996*age^2+130.57*age+65.331*log(lexp)$\n",
    "### $peakage: 24.18$"
   ]
  },
  {
   "cell_type": "code",
   "execution_count": null,
   "metadata": {},
   "outputs": [],
   "source": [
    "# create 1000 equally spaced points between -10 and 10\n",
    "agex = np.linspace(15, 30, 1000)\n",
    "expx = np.linspace(1, 70, 1000)\n",
    "# calculate the y value for each element of the x vector\n",
    "age = res.params.agesq*agex**2 + res.params.age*agex \n",
    "exp = res.params.lexp*np.log(expx)\n",
    "\n",
    "fig, ax = plt.subplots(1, 2, figsize=(15, 5))\n",
    "ax[0].plot(agex, age)\n",
    "ax[0].set_title(\"Partial effect of Age\")\n",
    "ax[1].plot(expx, exp)\n",
    "ax[1].set_title(\"Partial effect of Exp\")\n",
    "plt.show()"
   ]
  },
  {
   "cell_type": "markdown",
   "metadata": {},
   "source": [
    "### Teammate effect\n",
    "teamrating = (average rating of all player in that team at that tournament * 5) - (that player rating)"
   ]
  },
  {
   "cell_type": "code",
   "execution_count": null,
   "metadata": {},
   "outputs": [],
   "source": [
    "df[['wrating', 'age', 'exp', 'teamrating']].describe()"
   ]
  },
  {
   "cell_type": "code",
   "execution_count": null,
   "metadata": {
    "collapsed": true
   },
   "outputs": [],
   "source": [
    "res = panelOLSResult(df, 'wrating', ['age', 'agesq', 'lexp', 'teamrating'])"
   ]
  },
  {
   "cell_type": "code",
   "execution_count": null,
   "metadata": {
    "scrolled": false
   },
   "outputs": [],
   "source": [
    "res.summary"
   ]
  },
  {
   "cell_type": "markdown",
   "metadata": {},
   "source": [
    "## $wrating = -2.816*age^2+157.62*age+18.362*log(lexp)+0.2909*teammaterating$\n",
    "### $peak age: 27.98$"
   ]
  },
  {
   "cell_type": "code",
   "execution_count": null,
   "metadata": {},
   "outputs": [],
   "source": [
    "# create 1000 equally spaced points between -10 and 10\n",
    "agex = np.linspace(15, 30, 1000)\n",
    "expx = np.linspace(1, 70, 1000)\n",
    "teamx = np.linspace(1300, 2200, 1000)\n",
    "# calculate the y value for each element of the x vector\n",
    "age = res.params.agesq*agex**2 + res.params.age*agex \n",
    "exp = res.params.lexp*np.log(expx)\n",
    "team = res.params.teamrating*teamx \n",
    "\n",
    "fig, ax = plt.subplots(2, 2, figsize=(15, 10))\n",
    "ax[0, 0].plot(agex, age)\n",
    "ax[0, 0].set_title(\"Partial effect of Age\")\n",
    "ax[0, 1].plot(expx, exp)\n",
    "ax[0, 1].set_title(\"Partial effect of Exp\")\n",
    "ax[1, 0].plot(teamx, team)\n",
    "ax[1, 0].set_title(\"Partial effect of Teammate Performance\")\n",
    "ax[1, 1].axis('off')\n",
    "\n",
    "plt.show()"
   ]
  },
  {
   "cell_type": "markdown",
   "metadata": {
    "collapsed": true
   },
   "source": [
    "### Team Performance = glickorating"
   ]
  },
  {
   "cell_type": "code",
   "execution_count": null,
   "metadata": {},
   "outputs": [],
   "source": [
    "import statsmodels.api as sm"
   ]
  },
  {
   "cell_type": "code",
   "execution_count": null,
   "metadata": {},
   "outputs": [],
   "source": [
    "df[['wrating', 'age', 'exp', 'startglicko2rating']].describe()"
   ]
  },
  {
   "cell_type": "code",
   "execution_count": null,
   "metadata": {},
   "outputs": [],
   "source": [
    "df"
   ]
  },
  {
   "cell_type": "code",
   "execution_count": null,
   "metadata": {
    "collapsed": true
   },
   "outputs": [],
   "source": [
    "res = panelOLSResult(df, 'wrating', ['age', 'agesq', 'lexp', 'startglicko2rating'])"
   ]
  },
  {
   "cell_type": "code",
   "execution_count": null,
   "metadata": {},
   "outputs": [],
   "source": [
    "res.summary"
   ]
  },
  {
   "cell_type": "code",
   "execution_count": null,
   "metadata": {},
   "outputs": [],
   "source": [
    "# create 1000 equally spaced points between -10 and 10\n",
    "agex = np.linspace(15, 30, 1000)\n",
    "expx = np.linspace(1, 70, 1000)\n",
    "teamx = np.linspace(1300, 2200, 1000)\n",
    "# calculate the y value for each element of the x vector\n",
    "age = res.params.agesq*agex**2 + res.params.age*agex \n",
    "exp = res.params.lexp*np.log(expx)\n",
    "team = res.params.startglicko2rating*teamx \n",
    "\n",
    "fig, ax = plt.subplots(2, 2, figsize=(15, 10))\n",
    "ax[0, 0].plot(agex, age)\n",
    "ax[0, 0].set_title(\"Partial effect of Age\")\n",
    "ax[0, 1].plot(expx, exp)\n",
    "ax[0, 1].set_title(\"Partial effect of Exp\")\n",
    "ax[1, 0].plot(teamx, team)\n",
    "ax[1, 0].set_title(\"Partial effect of Teammate Performance\")\n",
    "ax[1, 1].axis('off')\n",
    "\n",
    "plt.show()"
   ]
  },
  {
   "cell_type": "code",
   "execution_count": null,
   "metadata": {},
   "outputs": [],
   "source": [
    "df[['age', 'wrating', 'startglicko2rating', 'teamrating']].corr()"
   ]
  },
  {
   "cell_type": "code",
   "execution_count": null,
   "metadata": {
    "collapsed": true
   },
   "outputs": [],
   "source": [
    "from linearmodels import PanelOLS\n",
    "panel_data = df.set_index(['entity', 'start']).sort_index()\n",
    "panel_data['agesq'] = panel_data.age ** 2\n",
    "panel_data['const'] = 1\n",
    "panel_data['lexp'] = (panel_data['exp'] + 1).apply(np.log)\n",
    "Y = panel_data['wrating']\n",
    "X = panel_data[['age', 'agesq', 'const']]\n",
    "mod = PanelOLS(Y, X, entity_effects=True)\n",
    "res =  mod.fit()"
   ]
  },
  {
   "cell_type": "code",
   "execution_count": null,
   "metadata": {},
   "outputs": [],
   "source": [
    "res.summary"
   ]
  },
  {
   "cell_type": "code",
   "execution_count": null,
   "metadata": {},
   "outputs": [],
   "source": [
    "df.groupby('entity').size().hist(bins=20)"
   ]
  },
  {
   "cell_type": "code",
   "execution_count": null,
   "metadata": {},
   "outputs": [],
   "source": [
    "df"
   ]
  },
  {
   "cell_type": "code",
   "execution_count": null,
   "metadata": {
    "collapsed": true
   },
   "outputs": [],
   "source": [
    "bal = df.copy()"
   ]
  },
  {
   "cell_type": "code",
   "execution_count": null,
   "metadata": {
    "collapsed": true
   },
   "outputs": [],
   "source": [
    "bal['start'] = bal[bal['tour'] == 'The International 2013'].end.iloc[0]\n",
    "bal.loc[(bal.season == 'ti4'), 'start'] = bal[bal['tour'] == 'The International 2014'].end.iloc[0]\n",
    "bal.loc[(bal.season == 'ti5'), 'start'] = bal[bal['tour'] == 'The International 2015'].end.iloc[0]\n",
    "bal.loc[(bal.season == 'ti6'), 'start'] = bal[bal['tour'] == 'The International 2016'].end.iloc[0]\n",
    "bal.loc[(bal.season == 'ti7'), 'start'] = bal[bal['tour'] == 'The International 2017'].end.iloc[0]"
   ]
  },
  {
   "cell_type": "code",
   "execution_count": null,
   "metadata": {
    "collapsed": true
   },
   "outputs": [],
   "source": [
    "bal = bal.groupby(['id', 'season'], as_index=False).agg(\n",
    "                      {'wrating':['mean'], 'dob':'first', 'start':'first', 'exp': 'size', 'startglicko2rating': 'mean', 'teamrating': 'mean', 'pos': 'mean'})"
   ]
  },
  {
   "cell_type": "code",
   "execution_count": null,
   "metadata": {
    "collapsed": true
   },
   "outputs": [],
   "source": [
    "nss = df.drop_duplicates(['id', 'season']).groupby(['id']).size().reset_index()"
   ]
  },
  {
   "cell_type": "code",
   "execution_count": null,
   "metadata": {
    "collapsed": true
   },
   "outputs": [],
   "source": [
    "bal = bal[bal['id'].isin(nss[nss[0] >= 5].id.unique())]"
   ]
  },
  {
   "cell_type": "code",
   "execution_count": null,
   "metadata": {
    "collapsed": true
   },
   "outputs": [],
   "source": [
    "bal.columns = bal.columns.droplevel(level=1)"
   ]
  },
  {
   "cell_type": "code",
   "execution_count": null,
   "metadata": {
    "collapsed": true
   },
   "outputs": [],
   "source": [
    "ent = pd.DataFrame(bal.id.unique()).reset_index().rename(columns={'index': 'entity', 0: 'id'})\n",
    "bal = ent.merge(bal, on='id', how='left')"
   ]
  },
  {
   "cell_type": "code",
   "execution_count": null,
   "metadata": {
    "collapsed": true
   },
   "outputs": [],
   "source": [
    "dob = bal[['id', 'dob']].drop_duplicates()"
   ]
  },
  {
   "cell_type": "code",
   "execution_count": null,
   "metadata": {
    "collapsed": true
   },
   "outputs": [],
   "source": [
    "unbalanced_data = bal"
   ]
  },
  {
   "cell_type": "code",
   "execution_count": null,
   "metadata": {
    "collapsed": true
   },
   "outputs": [],
   "source": [
    "unbalanced_data = unbalanced_data.rename(columns={'start': 'date'})"
   ]
  },
  {
   "cell_type": "code",
   "execution_count": null,
   "metadata": {
    "collapsed": true
   },
   "outputs": [],
   "source": [
    "all_dates = pd.DataFrame(bal.start.unique()).rename(columns={0: 'date'})"
   ]
  },
  {
   "cell_type": "code",
   "execution_count": null,
   "metadata": {
    "collapsed": true
   },
   "outputs": [],
   "source": [
    "uid = unbalanced_data['id'].unique()\n",
    "ids_full = np.array([[x]*len(all_dates) for x in range(len(uid))]).flatten()\n",
    "dates = all_dates['date'].tolist() * len(uid)\n",
    "balanced_panel = pd.DataFrame({'entity': ids_full, 'date': dates})\n",
    "rebalanced_data = pd.merge(balanced_panel, unbalanced_data, how='left',\n",
    "                           on=['entity', 'date'])"
   ]
  },
  {
   "cell_type": "code",
   "execution_count": null,
   "metadata": {
    "collapsed": true
   },
   "outputs": [],
   "source": [
    "balanced_data = rebalanced_data.drop('id', axis=1).merge(ent, how='left', on='entity').drop('dob', axis=1).merge(dob, how='left', on='id')"
   ]
  },
  {
   "cell_type": "code",
   "execution_count": null,
   "metadata": {
    "collapsed": true
   },
   "outputs": [],
   "source": [
    "balanced_data.date = pd.to_datetime(balanced_data.date)"
   ]
  },
  {
   "cell_type": "code",
   "execution_count": null,
   "metadata": {
    "collapsed": true
   },
   "outputs": [],
   "source": [
    "balanced_data['season'] = 'ti7'\n",
    "balanced_data.loc[(balanced_data.date == pd.to_datetime('2013-08-11')), 'season'] = 'ti3'\n",
    "balanced_data.loc[(balanced_data.date == pd.to_datetime('2014-07-21')), 'season'] = 'ti4'\n",
    "balanced_data.loc[(balanced_data.date == pd.to_datetime('2015-08-08')), 'season'] = 'ti5'\n",
    "balanced_data.loc[(balanced_data.date == pd.to_datetime('2016-08-13')), 'season'] = 'ti6'"
   ]
  },
  {
   "cell_type": "code",
   "execution_count": null,
   "metadata": {
    "collapsed": true
   },
   "outputs": [],
   "source": [
    "balanced_data['age'] = ((balanced_data.date- balanced_data.dob) / pd.Timedelta(days=365.25)).round()\n",
    "balanced_data['pos'] = balanced_data['pos'].round()"
   ]
  },
  {
   "cell_type": "code",
   "execution_count": null,
   "metadata": {},
   "outputs": [],
   "source": [
    "balanced_data = balanced_data[['entity', 'id', 'date', 'pos', 'exp', 'season', 'wrating', 'age', 'startglicko2rating', 'teamrating']]\n",
    "balanced_data"
   ]
  },
  {
   "cell_type": "markdown",
   "metadata": {},
   "source": [
    "#### Reason of Missing\n",
    "1. retirement\n",
    "    * just break and comeback to play after\n",
    "    * stop playing competitively\n",
    "2. not enter scene\n",
    "    * too young\n",
    "    * playing but not in minor/major tier\n",
    "3. playing with team without record that season\n",
    "    * playing in major/minor tier but with new/small team\n",
    "    * become coach but sometime play"
   ]
  },
  {
   "cell_type": "code",
   "execution_count": null,
   "metadata": {
    "collapsed": true
   },
   "outputs": [],
   "source": [
    "balanced_data = pd.concat([balanced_data, pd.get_dummies(balanced_data.pos)], axis=1)"
   ]
  },
  {
   "cell_type": "code",
   "execution_count": null,
   "metadata": {},
   "outputs": [],
   "source": [
    "balanced_data.describe()"
   ]
  },
  {
   "cell_type": "code",
   "execution_count": null,
   "metadata": {
    "collapsed": true
   },
   "outputs": [],
   "source": [
    "balanced_data['exp'] = balanced_data.groupby('entity').exp.cumsum()"
   ]
  },
  {
   "cell_type": "code",
   "execution_count": null,
   "metadata": {
    "collapsed": true
   },
   "outputs": [],
   "source": [
    "from linearmodels import PanelOLS \n",
    "panel_data = balanced_data.set_index(['entity', 'date']).sort_index()\n",
    "panel_data['lexp'] = (panel_data['exp'] + 1).apply(np.log)\n",
    "panel_data['agesq'] = panel_data.age ** 2\n",
    "panel_data['const'] = 1\n",
    "Y = panel_data['wrating']\n",
    "X = panel_data[['age', 'agesq', 'lexp', 'teamrating', 'const', 1.0, 2.0, 3.0, 4.0]]\n",
    "mod = PanelOLS(Y, X, entity_effects=True, time_effects=False)\n",
    "res = mod.fit()"
   ]
  },
  {
   "cell_type": "code",
   "execution_count": null,
   "metadata": {},
   "outputs": [],
   "source": [
    "res.summary"
   ]
  },
  {
   "cell_type": "code",
   "execution_count": null,
   "metadata": {},
   "outputs": [],
   "source": [
    "# create 1000 equally spaced points between -10 and 10\n",
    "agex = np.linspace(15, 30, 1000)\n",
    "expx = np.linspace(15, 30, 1000)\n",
    "\n",
    "# calculate the y value for each element of the x vector\n",
    "age = res.params.agesq*agex**2 + res.params.age*agex\n",
    "exp = res.params.lexp*np.log(expx)\n",
    "\n",
    "fig, ax = plt.subplots(1, 2, figsize=(15, 5))\n",
    "ax[0].plot(agex, age)\n",
    "ax[0].set_title(\"Partial effect of Age\")\n",
    "ax[1].plot(expx, exp)\n",
    "ax[1].set_title(\"Partial effect of Experience\")\n",
    "\n",
    "plt.show()"
   ]
  },
  {
   "cell_type": "code",
   "execution_count": null,
   "metadata": {},
   "outputs": [],
   "source": [
    "res.estimated_effects"
   ]
  },
  {
   "cell_type": "code",
   "execution_count": null,
   "metadata": {
    "collapsed": true
   },
   "outputs": [],
   "source": []
  }
 ],
 "metadata": {
  "kernelspec": {
   "display_name": "Python 3",
   "language": "python",
   "name": "python3"
  },
  "language_info": {
   "codemirror_mode": {
    "name": "ipython",
    "version": 3
   },
   "file_extension": ".py",
   "mimetype": "text/x-python",
   "name": "python",
   "nbconvert_exporter": "python",
   "pygments_lexer": "ipython3",
   "version": "3.6.3"
  }
 },
 "nbformat": 4,
 "nbformat_minor": 2
}
