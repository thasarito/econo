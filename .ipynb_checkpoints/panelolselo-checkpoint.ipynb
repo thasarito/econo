{
 "cells": [
  {
   "cell_type": "code",
   "execution_count": 1,
   "metadata": {
    "collapsed": true
   },
   "outputs": [],
   "source": [
    "%matplotlib inline\n",
    "# data analysis and wrangling\n",
    "import pandas as pd\n",
    "import numpy as np\n",
    "import random as rnd\n",
    "\n",
    "# visualization\n",
    "import seaborn as sns\n",
    "import matplotlib.pyplot as plt\n",
    "\n",
    "def plotPlayer(id):\n",
    "    player = id\n",
    "    fig = plt.figure(figsize=(10, 6))\n",
    "    ax = fig.gca()\n",
    "    df[df['id'] == player][['wrating', 'age']].set_index('age').sort_index().plot(ax=ax)\n",
    "    df[df['id'] == player][['rating', 'age']].set_index('age').sort_index().plot(ax=ax)\n",
    "    return (df[df['id'] == player][['wrating', 'tour', 'age', 'team', 'start']].set_index('age').sort_index())"
   ]
  },
  {
   "cell_type": "code",
   "execution_count": 2,
   "metadata": {},
   "outputs": [],
   "source": [
    "def load_csv(system):\n",
    "    df = pd.read_csv(system + '.csv', encoding=\"utf-8\")\n",
    "    df.start = pd.to_datetime(df.start, format='%d/%m/%Y')\n",
    "    df.end = pd.to_datetime(df.end, format='%d/%m/%Y')\n",
    "    dob = pd.read_csv('dob.csv', encoding=\"utf-8\")\n",
    "    dob.id = dob.id.str.replace(r'\\W+', '').str.lower()\n",
    "    return df, dob\n",
    "\n",
    "def cumulativeRating(diff, ratingName, df):\n",
    "    cumsums = df[['id', 'start', diff]].groupby(['id', 'start']).sum().groupby(level=0).cumsum()\n",
    "    df = df.set_index(['id', 'start'])\n",
    "    df['cumur'] = cumsums\n",
    "    df = df.reset_index()\n",
    "    init = df[df['startglicko2rating'].notnull()].sort_values('start')[['startglicko2rating', 'id']].groupby('id').first().reset_index().rename(columns={'startglicko2rating': 'init'})\n",
    "    df = pd.merge(df, init, how='left', on='id')\n",
    "    df[ratingName] = df.cumur + df.init\n",
    "    return df\n",
    "\n",
    "def teamRating(rating, df):\n",
    "    teameff = df.merge((df.groupby(['team', 'start']).mean()[rating] * 5).reset_index().rename(columns={rating: 'teamrating'}), on=['team', 'start'])\n",
    "    teameff.teamrating = (teameff.teamrating - teameff[rating]) / 4\n",
    "    return teameff\n",
    "\n",
    "def experience(df):\n",
    "    dfid2 = pd.DataFrame()\n",
    "    for player in df.id.unique():\n",
    "        dfid = pd.DataFrame(df[df['id'] == player].sort_values('start').tour.unique()).reset_index().rename(columns={'index': 'exp', 0: 'tour'})\n",
    "        dfid['id'] = player\n",
    "        dfid2 = pd.concat([dfid2, dfid])\n",
    "    return pd.merge(df, dfid2, how='left', on=['id', 'tour'])\n",
    "    \n",
    "def dobMerge(df, dob):\n",
    "    dob.id = dob.id.str.replace(r'\\W+', '').str.lower()\n",
    "    df = df.merge(dob, how='left', on=['id'])\n",
    "    df.dob = pd.to_datetime(df.dob, format='%Y/%m/%d')\n",
    "    df['age'] = (df.start - df.dob) / pd.Timedelta(days=365.25)\n",
    "    return df"
   ]
  },
  {
   "cell_type": "code",
   "execution_count": 3,
   "metadata": {},
   "outputs": [],
   "source": [
    "df, dob = load_csv('glicko2')\n",
    "df['diffr'] = df.endglicko2rating - df.startglicko2rating\n",
    "df = cumulativeRating('diffr', 'normalRating', df)\n",
    "df = teamRating('normalRating', df)\n",
    "df = experience(df)\n",
    "df.drop_duplicates(subset=['id', 'start'], inplace=True)\n",
    "df.dropna(inplace=True)\n",
    "df = dobMerge(df, dob)\n",
    "df.dropna(inplace=True)\n",
    "df = df[(df.prizeusd != 'Nan')]\n",
    "df.prizeusd = pd.to_numeric(df.prizeusd)"
   ]
  },
  {
   "cell_type": "code",
   "execution_count": 4,
   "metadata": {
    "collapsed": true
   },
   "outputs": [],
   "source": [
    "df['season'] = 'ti3'\n",
    "df.loc[(df.start > pd.to_datetime('2013-08-02')) & (df.start <= pd.to_datetime('2014-07-08')), 'season'] = 'ti4'\n",
    "df.loc[(df.start > pd.to_datetime('2014-07-08')) & (df.start <= pd.to_datetime('2015-07-27')), 'season'] = 'ti5'\n",
    "df.loc[(df.start > pd.to_datetime('2015-07-27')) & (df.start <= pd.to_datetime('2016-08-02')), 'season'] = 'ti6'\n",
    "df.loc[(df.start > pd.to_datetime('2016-08-02')) & (df.start <= pd.to_datetime('2017-08-02')), 'season'] = 'ti7'"
   ]
  },
  {
   "cell_type": "code",
   "execution_count": 5,
   "metadata": {},
   "outputs": [],
   "source": [
    "df['tiprize'] = np.log(int(df[df['tour'] == 'The International 2013'].prizeusd.iloc[0]))\n",
    "df.loc[(df.season == 'ti4'), 'tiprize'] = np.log(int(df[df['tour'] == 'The International 2014'].prizeusd.iloc[0]))\n",
    "df.loc[(df.season == 'ti5'), 'tiprize'] = np.log(int(df[df['tour'] == 'The International 2015'].prizeusd.iloc[0]))\n",
    "df.loc[(df.season == 'ti6'), 'tiprize'] = np.log(int(df[df['tour'] == 'The International 2016'].prizeusd.iloc[0]))\n",
    "df.loc[(df.season == 'ti7'), 'tiprize'] = np.log(int(df[df['tour'] == 'The International 2017'].prizeusd.iloc[0]))\n",
    "\n",
    "df['wdiffr'] = (df.prizeusd.apply(np.log) / df.tiprize) * df.diffr\n",
    "\n",
    "#cumulative sum of wdiffr\n",
    "cumsums = df[['id', 'start', 'wdiffr']].groupby(['id', 'start']).sum().groupby(level=0).cumsum()\n",
    "df = df.set_index(['id', 'start'])\n",
    "df['cumuwr'] = cumsums\n",
    "df = df.reset_index()\n",
    "df['wrating'] = df.cumuwr + df.init"
   ]
  },
  {
   "cell_type": "code",
   "execution_count": 6,
   "metadata": {
    "collapsed": true
   },
   "outputs": [],
   "source": [
    "ent = pd.DataFrame(df.id.unique()).reset_index().rename(columns={'index': 'entity', 0: 'id'})\n",
    "df = ent.merge(df, on='id', how='left')"
   ]
  },
  {
   "cell_type": "code",
   "execution_count": 7,
   "metadata": {
    "collapsed": true
   },
   "outputs": [],
   "source": [
    "def panelOLSResult(df, Y, X):\n",
    "    from linearmodels import PanelOLS \n",
    "    panel_data = df.set_index(['entity', 'start']).sort_index()\n",
    "    panel_data['agesq'] = panel_data.age ** 2\n",
    "    panel_data['const'] = 1\n",
    "    panel_data['lexp'] = (panel_data['exp'] + 1).apply(np.log)\n",
    "    Y = panel_data[Y]\n",
    "    X = panel_data[X]\n",
    "    mod = PanelOLS(Y, X, entity_effects=True)\n",
    "    return mod.fit()\n",
    "\n",
    "def feResult(res):\n",
    "    fe = res.estimated_effects.reset_index().drop_duplicates().drop_duplicates(subset=['entity']).drop('time', 1)\n",
    "    return ent.merge(fe, on='entity').sort_values('estimated_effects', ascending=False)"
   ]
  },
  {
   "cell_type": "markdown",
   "metadata": {},
   "source": [
    "### Age and experience"
   ]
  },
  {
   "cell_type": "code",
   "execution_count": 8,
   "metadata": {},
   "outputs": [
    {
     "data": {
      "text/html": [
       "<div>\n",
       "<style>\n",
       "    .dataframe thead tr:only-child th {\n",
       "        text-align: right;\n",
       "    }\n",
       "\n",
       "    .dataframe thead th {\n",
       "        text-align: left;\n",
       "    }\n",
       "\n",
       "    .dataframe tbody tr th {\n",
       "        vertical-align: top;\n",
       "    }\n",
       "</style>\n",
       "<table border=\"1\" class=\"dataframe\">\n",
       "  <thead>\n",
       "    <tr style=\"text-align: right;\">\n",
       "      <th></th>\n",
       "      <th>wrating</th>\n",
       "      <th>age</th>\n",
       "      <th>exp</th>\n",
       "    </tr>\n",
       "  </thead>\n",
       "  <tbody>\n",
       "    <tr>\n",
       "      <th>count</th>\n",
       "      <td>5251.000000</td>\n",
       "      <td>5251.000000</td>\n",
       "      <td>5251.000000</td>\n",
       "    </tr>\n",
       "    <tr>\n",
       "      <th>mean</th>\n",
       "      <td>1759.784722</td>\n",
       "      <td>22.611274</td>\n",
       "      <td>24.626357</td>\n",
       "    </tr>\n",
       "    <tr>\n",
       "      <th>std</th>\n",
       "      <td>175.103877</td>\n",
       "      <td>2.527670</td>\n",
       "      <td>17.632583</td>\n",
       "    </tr>\n",
       "    <tr>\n",
       "      <th>min</th>\n",
       "      <td>1281.650952</td>\n",
       "      <td>15.739904</td>\n",
       "      <td>0.000000</td>\n",
       "    </tr>\n",
       "    <tr>\n",
       "      <th>25%</th>\n",
       "      <td>1637.702582</td>\n",
       "      <td>20.882957</td>\n",
       "      <td>11.000000</td>\n",
       "    </tr>\n",
       "    <tr>\n",
       "      <th>50%</th>\n",
       "      <td>1739.296889</td>\n",
       "      <td>22.666667</td>\n",
       "      <td>21.000000</td>\n",
       "    </tr>\n",
       "    <tr>\n",
       "      <th>75%</th>\n",
       "      <td>1865.689863</td>\n",
       "      <td>24.394251</td>\n",
       "      <td>36.000000</td>\n",
       "    </tr>\n",
       "    <tr>\n",
       "      <th>max</th>\n",
       "      <td>2275.313145</td>\n",
       "      <td>30.149213</td>\n",
       "      <td>83.000000</td>\n",
       "    </tr>\n",
       "  </tbody>\n",
       "</table>\n",
       "</div>"
      ],
      "text/plain": [
       "           wrating          age          exp\n",
       "count  5251.000000  5251.000000  5251.000000\n",
       "mean   1759.784722    22.611274    24.626357\n",
       "std     175.103877     2.527670    17.632583\n",
       "min    1281.650952    15.739904     0.000000\n",
       "25%    1637.702582    20.882957    11.000000\n",
       "50%    1739.296889    22.666667    21.000000\n",
       "75%    1865.689863    24.394251    36.000000\n",
       "max    2275.313145    30.149213    83.000000"
      ]
     },
     "execution_count": 8,
     "metadata": {},
     "output_type": "execute_result"
    }
   ],
   "source": [
    "df[['wrating', 'age', 'exp']].describe()"
   ]
  },
  {
   "cell_type": "code",
   "execution_count": 9,
   "metadata": {
    "collapsed": true
   },
   "outputs": [],
   "source": [
    "res = panelOLSResult(df, 'wrating', ['age', 'agesq', 'lexp'])"
   ]
  },
  {
   "cell_type": "code",
   "execution_count": 10,
   "metadata": {},
   "outputs": [
    {
     "data": {
      "text/html": [
       "<table class=\"simpletable\">\n",
       "<caption>PanelOLS Estimation Summary</caption>\n",
       "<tr>\n",
       "  <th>Dep. Variable:</th>         <td>wrating</td>     <th>  R-squared:         </th>    <td>0.2819</td>  \n",
       "</tr>\n",
       "<tr>\n",
       "  <th>Estimator:</th>            <td>PanelOLS</td>     <th>  R-squared (Between):</th>   <td>0.9929</td>  \n",
       "</tr>\n",
       "<tr>\n",
       "  <th>No. Observations:</th>       <td>5251</td>       <th>  R-squared (Within):</th>    <td>0.2819</td>  \n",
       "</tr>\n",
       "<tr>\n",
       "  <th>Date:</th>             <td>Mon, Feb 26 2018</td> <th>  R-squared (Overall):</th>   <td>0.9916</td>  \n",
       "</tr>\n",
       "<tr>\n",
       "  <th>Time:</th>                 <td>16:50:14</td>     <th>  Log-likelihood     </th>   <td>-3.04e+04</td>\n",
       "</tr>\n",
       "<tr>\n",
       "  <th>Cov. Estimator:</th>      <td>Unadjusted</td>    <th>                     </th>       <td></td>     \n",
       "</tr>\n",
       "<tr>\n",
       "  <th></th>                          <td></td>         <th>  F-statistic:       </th>    <td>650.30</td>  \n",
       "</tr>\n",
       "<tr>\n",
       "  <th>Entities:</th>                <td>278</td>       <th>  P-value            </th>    <td>0.0000</td>  \n",
       "</tr>\n",
       "<tr>\n",
       "  <th>Avg Obs:</th>               <td>18.888</td>      <th>  Distribution:      </th>   <td>F(3,4970)</td>\n",
       "</tr>\n",
       "<tr>\n",
       "  <th>Min Obs:</th>               <td>1.0000</td>      <th>                     </th>       <td></td>     \n",
       "</tr>\n",
       "<tr>\n",
       "  <th>Max Obs:</th>               <td>76.000</td>      <th>  F-statistic (robust):</th>  <td>650.30</td>  \n",
       "</tr>\n",
       "<tr>\n",
       "  <th></th>                          <td></td>         <th>  P-value            </th>    <td>0.0000</td>  \n",
       "</tr>\n",
       "<tr>\n",
       "  <th>Time periods:</th>            <td>215</td>       <th>  Distribution:      </th>   <td>F(3,4970)</td>\n",
       "</tr>\n",
       "<tr>\n",
       "  <th>Avg Obs:</th>               <td>24.423</td>      <th>                     </th>       <td></td>     \n",
       "</tr>\n",
       "<tr>\n",
       "  <th>Min Obs:</th>               <td>1.0000</td>      <th>                     </th>       <td></td>     \n",
       "</tr>\n",
       "<tr>\n",
       "  <th>Max Obs:</th>               <td>75.000</td>      <th>                     </th>       <td></td>     \n",
       "</tr>\n",
       "<tr>\n",
       "  <th></th>                          <td></td>         <th>                     </th>       <td></td>     \n",
       "</tr>\n",
       "</table>\n",
       "<table class=\"simpletable\">\n",
       "<caption>Parameter Estimates</caption>\n",
       "<tr>\n",
       "    <td></td>    <th>Parameter</th> <th>Std. Err.</th> <th>T-stat</th>  <th>P-value</th> <th>Lower CI</th> <th>Upper CI</th>\n",
       "</tr>\n",
       "<tr>\n",
       "  <th>age</th>    <td>130.57</td>    <td>13.378</td>   <td>9.7600</td>  <td>0.0000</td>   <td>104.34</td>   <td>156.79</td> \n",
       "</tr>\n",
       "<tr>\n",
       "  <th>agesq</th>  <td>-2.6996</td>   <td>0.2768</td>   <td>-9.7530</td> <td>0.0000</td>   <td>-3.2422</td>  <td>-2.1569</td>\n",
       "</tr>\n",
       "<tr>\n",
       "  <th>lexp</th>   <td>65.331</td>    <td>3.3342</td>   <td>19.594</td>  <td>0.0000</td>   <td>58.795</td>   <td>71.868</td> \n",
       "</tr>\n",
       "</table><br/><br/>F-test for Poolability: 45.501<br/>P-value: 0.0000<br/>Distribution: F(277,4970)<br/><br/>Included effects: Entity"
      ],
      "text/plain": [
       "<class 'linearmodels.compat.statsmodels.Summary'>\n",
       "\"\"\"\n",
       "                          PanelOLS Estimation Summary                           \n",
       "================================================================================\n",
       "Dep. Variable:                wrating   R-squared:                        0.2819\n",
       "Estimator:                   PanelOLS   R-squared (Between):              0.9929\n",
       "No. Observations:                5251   R-squared (Within):               0.2819\n",
       "Date:                Mon, Feb 26 2018   R-squared (Overall):              0.9916\n",
       "Time:                        16:50:14   Log-likelihood                 -3.04e+04\n",
       "Cov. Estimator:            Unadjusted                                           \n",
       "                                        F-statistic:                      650.30\n",
       "Entities:                         278   P-value                           0.0000\n",
       "Avg Obs:                       18.888   Distribution:                  F(3,4970)\n",
       "Min Obs:                       1.0000                                           \n",
       "Max Obs:                       76.000   F-statistic (robust):             650.30\n",
       "                                        P-value                           0.0000\n",
       "Time periods:                     215   Distribution:                  F(3,4970)\n",
       "Avg Obs:                       24.423                                           \n",
       "Min Obs:                       1.0000                                           \n",
       "Max Obs:                       75.000                                           \n",
       "                                                                                \n",
       "                             Parameter Estimates                              \n",
       "==============================================================================\n",
       "            Parameter  Std. Err.     T-stat    P-value    Lower CI    Upper CI\n",
       "------------------------------------------------------------------------------\n",
       "age            130.57     13.378     9.7600     0.0000      104.34      156.79\n",
       "agesq         -2.6996     0.2768    -9.7530     0.0000     -3.2422     -2.1569\n",
       "lexp           65.331     3.3342     19.594     0.0000      58.795      71.868\n",
       "==============================================================================\n",
       "\n",
       "F-test for Poolability: 45.501\n",
       "P-value: 0.0000\n",
       "Distribution: F(277,4970)\n",
       "\n",
       "Included effects: Entity\n",
       "\"\"\""
      ]
     },
     "execution_count": 10,
     "metadata": {},
     "output_type": "execute_result"
    }
   ],
   "source": [
    "res.summary"
   ]
  },
  {
   "cell_type": "markdown",
   "metadata": {},
   "source": [
    "## $wrating = -2.6*age^2+125.04*age+54.129*log(lexp)$"
   ]
  },
  {
   "cell_type": "code",
   "execution_count": 11,
   "metadata": {},
   "outputs": [
    {
     "data": {
      "image/png": "[encoded data removed]",
      "text/plain": [
       "<matplotlib.figure.Figure at 0x1799795b518>"
      ]
     },
     "metadata": {},
     "output_type": "display_data"
    }
   ],
   "source": [
    "# create 1000 equally spaced points between -10 and 10\n",
    "agex = np.linspace(15, 30, 1000)\n",
    "expx = np.linspace(1, 70, 1000)\n",
    "# calculate the y value for each element of the x vector\n",
    "age = res.params.agesq*agex**2 + res.params.age*agex \n",
    "exp = res.params.lexp*np.log(expx)\n",
    "\n",
    "fig, ax = plt.subplots(1, 2, figsize=(15, 5))\n",
    "ax[0].plot(agex, age)\n",
    "ax[0].set_title(\"Partial effect of Age\")\n",
    "ax[1].plot(expx, exp)\n",
    "ax[1].set_title(\"Partial effect of Exp\")\n",
    "plt.show()"
   ]
  },
  {
   "cell_type": "markdown",
   "metadata": {},
   "source": [
    "### Teammate effect\n",
    "teamrating = (average rating of all player in that team at that tournament * 5) - (that player rating)"
   ]
  },
  {
   "cell_type": "code",
   "execution_count": 12,
   "metadata": {},
   "outputs": [
    {
     "data": {
      "text/html": [
       "<div>\n",
       "<style>\n",
       "    .dataframe thead tr:only-child th {\n",
       "        text-align: right;\n",
       "    }\n",
       "\n",
       "    .dataframe thead th {\n",
       "        text-align: left;\n",
       "    }\n",
       "\n",
       "    .dataframe tbody tr th {\n",
       "        vertical-align: top;\n",
       "    }\n",
       "</style>\n",
       "<table border=\"1\" class=\"dataframe\">\n",
       "  <thead>\n",
       "    <tr style=\"text-align: right;\">\n",
       "      <th></th>\n",
       "      <th>wrating</th>\n",
       "      <th>age</th>\n",
       "      <th>exp</th>\n",
       "      <th>teamrating</th>\n",
       "    </tr>\n",
       "  </thead>\n",
       "  <tbody>\n",
       "    <tr>\n",
       "      <th>count</th>\n",
       "      <td>5251.000000</td>\n",
       "      <td>5251.000000</td>\n",
       "      <td>5251.000000</td>\n",
       "      <td>5251.000000</td>\n",
       "    </tr>\n",
       "    <tr>\n",
       "      <th>mean</th>\n",
       "      <td>1759.784722</td>\n",
       "      <td>22.611274</td>\n",
       "      <td>24.626357</td>\n",
       "      <td>1840.911627</td>\n",
       "    </tr>\n",
       "    <tr>\n",
       "      <th>std</th>\n",
       "      <td>175.103877</td>\n",
       "      <td>2.527670</td>\n",
       "      <td>17.632583</td>\n",
       "      <td>192.464997</td>\n",
       "    </tr>\n",
       "    <tr>\n",
       "      <th>min</th>\n",
       "      <td>1281.650952</td>\n",
       "      <td>15.739904</td>\n",
       "      <td>0.000000</td>\n",
       "      <td>1321.284974</td>\n",
       "    </tr>\n",
       "    <tr>\n",
       "      <th>25%</th>\n",
       "      <td>1637.702582</td>\n",
       "      <td>20.882957</td>\n",
       "      <td>11.000000</td>\n",
       "      <td>1705.510679</td>\n",
       "    </tr>\n",
       "    <tr>\n",
       "      <th>50%</th>\n",
       "      <td>1739.296889</td>\n",
       "      <td>22.666667</td>\n",
       "      <td>21.000000</td>\n",
       "      <td>1831.697828</td>\n",
       "    </tr>\n",
       "    <tr>\n",
       "      <th>75%</th>\n",
       "      <td>1865.689863</td>\n",
       "      <td>24.394251</td>\n",
       "      <td>36.000000</td>\n",
       "      <td>1975.672821</td>\n",
       "    </tr>\n",
       "    <tr>\n",
       "      <th>max</th>\n",
       "      <td>2275.313145</td>\n",
       "      <td>30.149213</td>\n",
       "      <td>83.000000</td>\n",
       "      <td>2413.802158</td>\n",
       "    </tr>\n",
       "  </tbody>\n",
       "</table>\n",
       "</div>"
      ],
      "text/plain": [
       "           wrating          age          exp   teamrating\n",
       "count  5251.000000  5251.000000  5251.000000  5251.000000\n",
       "mean   1759.784722    22.611274    24.626357  1840.911627\n",
       "std     175.103877     2.527670    17.632583   192.464997\n",
       "min    1281.650952    15.739904     0.000000  1321.284974\n",
       "25%    1637.702582    20.882957    11.000000  1705.510679\n",
       "50%    1739.296889    22.666667    21.000000  1831.697828\n",
       "75%    1865.689863    24.394251    36.000000  1975.672821\n",
       "max    2275.313145    30.149213    83.000000  2413.802158"
      ]
     },
     "execution_count": 12,
     "metadata": {},
     "output_type": "execute_result"
    }
   ],
   "source": [
    "df[['wrating', 'age', 'exp', 'teamrating']].describe()"
   ]
  },
  {
   "cell_type": "code",
   "execution_count": 13,
   "metadata": {
    "collapsed": true
   },
   "outputs": [],
   "source": [
    "res = panelOLSResult(df, 'wrating', ['age', 'agesq', 'lexp', 'teamrating'])"
   ]
  },
  {
   "cell_type": "code",
   "execution_count": 14,
   "metadata": {
    "scrolled": false
   },
   "outputs": [
    {
     "data": {
      "text/html": [
       "<table class=\"simpletable\">\n",
       "<caption>PanelOLS Estimation Summary</caption>\n",
       "<tr>\n",
       "  <th>Dep. Variable:</th>         <td>wrating</td>     <th>  R-squared:         </th>    <td>0.4509</td>  \n",
       "</tr>\n",
       "<tr>\n",
       "  <th>Estimator:</th>            <td>PanelOLS</td>     <th>  R-squared (Between):</th>   <td>0.6550</td>  \n",
       "</tr>\n",
       "<tr>\n",
       "  <th>No. Observations:</th>       <td>5251</td>       <th>  R-squared (Within):</th>    <td>0.4509</td>  \n",
       "</tr>\n",
       "<tr>\n",
       "  <th>Date:</th>             <td>Mon, Feb 26 2018</td> <th>  R-squared (Overall):</th>   <td>0.7109</td>  \n",
       "</tr>\n",
       "<tr>\n",
       "  <th>Time:</th>                 <td>16:50:16</td>     <th>  Log-likelihood     </th>   <td>-2.97e+04</td>\n",
       "</tr>\n",
       "<tr>\n",
       "  <th>Cov. Estimator:</th>      <td>Unadjusted</td>    <th>                     </th>       <td></td>     \n",
       "</tr>\n",
       "<tr>\n",
       "  <th></th>                          <td></td>         <th>  F-statistic:       </th>    <td>1019.9</td>  \n",
       "</tr>\n",
       "<tr>\n",
       "  <th>Entities:</th>                <td>278</td>       <th>  P-value            </th>    <td>0.0000</td>  \n",
       "</tr>\n",
       "<tr>\n",
       "  <th>Avg Obs:</th>               <td>18.888</td>      <th>  Distribution:      </th>   <td>F(4,4969)</td>\n",
       "</tr>\n",
       "<tr>\n",
       "  <th>Min Obs:</th>               <td>1.0000</td>      <th>                     </th>       <td></td>     \n",
       "</tr>\n",
       "<tr>\n",
       "  <th>Max Obs:</th>               <td>76.000</td>      <th>  F-statistic (robust):</th>  <td>1019.9</td>  \n",
       "</tr>\n",
       "<tr>\n",
       "  <th></th>                          <td></td>         <th>  P-value            </th>    <td>0.0000</td>  \n",
       "</tr>\n",
       "<tr>\n",
       "  <th>Time periods:</th>            <td>215</td>       <th>  Distribution:      </th>   <td>F(4,4969)</td>\n",
       "</tr>\n",
       "<tr>\n",
       "  <th>Avg Obs:</th>               <td>24.423</td>      <th>                     </th>       <td></td>     \n",
       "</tr>\n",
       "<tr>\n",
       "  <th>Min Obs:</th>               <td>1.0000</td>      <th>                     </th>       <td></td>     \n",
       "</tr>\n",
       "<tr>\n",
       "  <th>Max Obs:</th>               <td>75.000</td>      <th>                     </th>       <td></td>     \n",
       "</tr>\n",
       "<tr>\n",
       "  <th></th>                          <td></td>         <th>                     </th>       <td></td>     \n",
       "</tr>\n",
       "</table>\n",
       "<table class=\"simpletable\">\n",
       "<caption>Parameter Estimates</caption>\n",
       "<tr>\n",
       "       <td></td>      <th>Parameter</th> <th>Std. Err.</th> <th>T-stat</th>  <th>P-value</th> <th>Lower CI</th> <th>Upper CI</th>\n",
       "</tr>\n",
       "<tr>\n",
       "  <th>age</th>         <td>157.62</td>    <td>11.720</td>   <td>13.449</td>  <td>0.0000</td>   <td>134.64</td>   <td>180.60</td> \n",
       "</tr>\n",
       "<tr>\n",
       "  <th>agesq</th>       <td>-2.8160</td>   <td>0.2421</td>   <td>-11.632</td> <td>0.0000</td>   <td>-3.2906</td>  <td>-2.3414</td>\n",
       "</tr>\n",
       "<tr>\n",
       "  <th>lexp</th>        <td>18.362</td>    <td>3.1537</td>   <td>5.8223</td>  <td>0.0000</td>   <td>12.179</td>   <td>24.545</td> \n",
       "</tr>\n",
       "<tr>\n",
       "  <th>teamrating</th>  <td>0.2909</td>    <td>0.0074</td>   <td>39.101</td>  <td>0.0000</td>   <td>0.2763</td>   <td>0.3055</td> \n",
       "</tr>\n",
       "</table><br/><br/>F-test for Poolability: 48.647<br/>P-value: 0.0000<br/>Distribution: F(277,4969)<br/><br/>Included effects: Entity"
      ],
      "text/plain": [
       "<class 'linearmodels.compat.statsmodels.Summary'>\n",
       "\"\"\"\n",
       "                          PanelOLS Estimation Summary                           \n",
       "================================================================================\n",
       "Dep. Variable:                wrating   R-squared:                        0.4509\n",
       "Estimator:                   PanelOLS   R-squared (Between):              0.6550\n",
       "No. Observations:                5251   R-squared (Within):               0.4509\n",
       "Date:                Mon, Feb 26 2018   R-squared (Overall):              0.7109\n",
       "Time:                        16:50:16   Log-likelihood                 -2.97e+04\n",
       "Cov. Estimator:            Unadjusted                                           \n",
       "                                        F-statistic:                      1019.9\n",
       "Entities:                         278   P-value                           0.0000\n",
       "Avg Obs:                       18.888   Distribution:                  F(4,4969)\n",
       "Min Obs:                       1.0000                                           \n",
       "Max Obs:                       76.000   F-statistic (robust):             1019.9\n",
       "                                        P-value                           0.0000\n",
       "Time periods:                     215   Distribution:                  F(4,4969)\n",
       "Avg Obs:                       24.423                                           \n",
       "Min Obs:                       1.0000                                           \n",
       "Max Obs:                       75.000                                           \n",
       "                                                                                \n",
       "                             Parameter Estimates                              \n",
       "==============================================================================\n",
       "            Parameter  Std. Err.     T-stat    P-value    Lower CI    Upper CI\n",
       "------------------------------------------------------------------------------\n",
       "age            157.62     11.720     13.449     0.0000      134.64      180.60\n",
       "agesq         -2.8160     0.2421    -11.632     0.0000     -3.2906     -2.3414\n",
       "lexp           18.362     3.1537     5.8223     0.0000      12.179      24.545\n",
       "teamrating     0.2909     0.0074     39.101     0.0000      0.2763      0.3055\n",
       "==============================================================================\n",
       "\n",
       "F-test for Poolability: 48.647\n",
       "P-value: 0.0000\n",
       "Distribution: F(277,4969)\n",
       "\n",
       "Included effects: Entity\n",
       "\"\"\""
      ]
     },
     "execution_count": 14,
     "metadata": {},
     "output_type": "execute_result"
    }
   ],
   "source": [
    "res.summary"
   ]
  },
  {
   "cell_type": "markdown",
   "metadata": {},
   "source": [
    "## $wrating = -2.5157*age^2+134*age+24.695*log(lexp)+0.4142*teammaterating$"
   ]
  },
  {
   "cell_type": "code",
   "execution_count": 15,
   "metadata": {},
   "outputs": [
    {
     "data": {
      "image/png": "[encoded data removed]",
      "text/plain": [
       "<matplotlib.figure.Figure at 0x17997a9aa58>"
      ]
     },
     "metadata": {},
     "output_type": "display_data"
    }
   ],
   "source": [
    "# create 1000 equally spaced points between -10 and 10\n",
    "agex = np.linspace(15, 30, 1000)\n",
    "expx = np.linspace(1, 70, 1000)\n",
    "teamx = np.linspace(1300, 2200, 1000)\n",
    "# calculate the y value for each element of the x vector\n",
    "age = res.params.agesq*agex**2 + res.params.age*agex \n",
    "exp = res.params.lexp*np.log(expx)\n",
    "team = res.params.teamrating*teamx \n",
    "\n",
    "fig, ax = plt.subplots(2, 2, figsize=(15, 10))\n",
    "ax[0, 0].plot(agex, age)\n",
    "ax[0, 0].set_title(\"Partial effect of Age\")\n",
    "ax[0, 1].plot(expx, exp)\n",
    "ax[0, 1].set_title(\"Partial effect of Exp\")\n",
    "ax[1, 0].plot(teamx, team)\n",
    "ax[1, 0].set_title(\"Partial effect of Teammate Performance\")\n",
    "ax[1, 1].axis('off')\n",
    "\n",
    "plt.show()"
   ]
  },
  {
   "cell_type": "code",
   "execution_count": null,
   "metadata": {
    "collapsed": true
   },
   "outputs": [],
   "source": []
  }
 ],
 "metadata": {
  "kernelspec": {
   "display_name": "Python 3",
   "language": "python",
   "name": "python3"
  },
  "language_info": {
   "codemirror_mode": {
    "name": "ipython",
    "version": 3
   },
   "file_extension": ".py",
   "mimetype": "text/x-python",
   "name": "python",
   "nbconvert_exporter": "python",
   "pygments_lexer": "ipython3",
   "version": "3.6.3"
  }
 },
 "nbformat": 4,
 "nbformat_minor": 2
}
