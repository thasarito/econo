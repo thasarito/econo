{
 "cells": [
  {
   "cell_type": "code",
   "execution_count": null,
   "metadata": {
    "collapsed": true
   },
   "outputs": [],
   "source": [
    "%matplotlib inline\n",
    "# data analysis and wrangling\n",
    "import pandas as pd\n",
    "import numpy as np\n",
    "import random as rnd\n",
    "\n",
    "# visualization\n",
    "import seaborn as sns\n",
    "import matplotlib.pyplot as plt"
   ]
  },
  {
   "cell_type": "code",
   "execution_count": null,
   "metadata": {
    "collapsed": true
   },
   "outputs": [],
   "source": [
    "df = pd.read_csv('glicko.csv', encoding = \"utf-8\")\n",
    "dob = pd.read_csv('dob.csv', encoding = \"utf-8\")"
   ]
  },
  {
   "cell_type": "code",
   "execution_count": null,
   "metadata": {
    "collapsed": true
   },
   "outputs": [],
   "source": [
    "dob.id = dob.id.str.replace(r'\\W+', '').str.lower()"
   ]
  },
  {
   "cell_type": "code",
   "execution_count": null,
   "metadata": {},
   "outputs": [],
   "source": [
    "dob.head()"
   ]
  },
  {
   "cell_type": "code",
   "execution_count": null,
   "metadata": {
    "collapsed": true
   },
   "outputs": [],
   "source": [
    "df = df.merge(dob, how='left', on=['id'])"
   ]
  },
  {
   "cell_type": "code",
   "execution_count": null,
   "metadata": {
    "collapsed": true
   },
   "outputs": [],
   "source": [
    "df = df.dropna().drop_duplicates(['id', 'tour'])"
   ]
  },
  {
   "cell_type": "code",
   "execution_count": null,
   "metadata": {},
   "outputs": [],
   "source": [
    "df.head()"
   ]
  },
  {
   "cell_type": "code",
   "execution_count": null,
   "metadata": {
    "collapsed": true
   },
   "outputs": [],
   "source": [
    "#convert day to datetime type\n",
    "df.start = pd.to_datetime(df.start, format='%d/%m/%Y')\n",
    "df.end = pd.to_datetime(df.end, format='%d/%m/%Y')\n",
    "df.dob = pd.to_datetime(df.dob, format='%Y/%m/%d')\n",
    "\n",
    "#age\n",
    "df['age'] = (df.start - df.dob) / pd.Timedelta(days=365.25)\n",
    "\n",
    "#elo gain from each tournament\n",
    "df['diffr'] = df.endglicko2rating - df.startglicko2rating\n",
    "\n",
    "#cumulative sum of delo\n",
    "cumsums = df[['id', 'start', 'diffr']].groupby(['id', 'start']).sum().groupby(level=0).cumsum()\n",
    "df = df.set_index(['id', 'start'])\n",
    "df['cumur'] = cumsums\n",
    "df = df.reset_index()\n",
    "\n",
    "#droptourwithnoprize\n",
    "df = df[(df.prizeusd != 'Nan')]\n",
    "df.prizeusd = pd.to_numeric(df.prizeusd)\n",
    "\n",
    "#experience\n",
    "for player in df.id.unique():\n",
    "    try:\n",
    "        dfid = pd.DataFrame(df[df['id'] == player].sort_values('start').tour.unique()).reset_index().rename(columns={'index': 'exp', 0: 'tour'})\n",
    "        dfid['id'] = player\n",
    "        dfid2 = pd.concat([dfid2, dfid])\n",
    "    except NameError:\n",
    "        dfid2 = dfid\n",
    "        continue\n",
    "\n",
    "df = pd.merge(df, dfid2, how='left', on=['id', 'tour'])\n",
    "\n",
    "#init is rating + initial mmr (assume first team = player's calibration)\n",
    "init = df[df['startglicko2rating'].notnull()].sort_values('start')[['startglicko2rating', 'id']].groupby('id').first().reset_index().rename(columns={'startglicko2rating': 'init'})\n",
    "df = pd.merge(df, init, how='left', on='id')\n",
    "df['rating'] = df.cumur + df.init\n",
    "df.drop_duplicates(subset=['id', 'tour'], inplace=True)\n",
    "df.dropna(inplace=True)\n"
   ]
  },
  {
   "cell_type": "code",
   "execution_count": null,
   "metadata": {},
   "outputs": [],
   "source": [
    "df[df['tour'] == 'The International 2013']"
   ]
  },
  {
   "cell_type": "code",
   "execution_count": null,
   "metadata": {
    "collapsed": true
   },
   "outputs": [],
   "source": [
    "df['season'] = 'ti3'\n",
    "df.loc[(df.start > pd.to_datetime('2013-08-02')) & (df.start <= pd.to_datetime('2014-07-08')), 'season'] = 'ti4'\n",
    "df.loc[(df.start > pd.to_datetime('2014-07-08')) & (df.start <= pd.to_datetime('2015-07-27')), 'season'] = 'ti5'\n",
    "df.loc[(df.start > pd.to_datetime('2015-07-27')) & (df.start <= pd.to_datetime('2016-08-02')), 'season'] = 'ti6'\n",
    "df.loc[(df.start > pd.to_datetime('2016-08-02')) & (df.start <= pd.to_datetime('2017-08-02')), 'season'] = 'ti7'"
   ]
  },
  {
   "cell_type": "code",
   "execution_count": null,
   "metadata": {
    "collapsed": true
   },
   "outputs": [],
   "source": [
    "df['tiprize'] = np.log(int(df[df['tour'] == 'The International 2013'].prizeusd.iloc[0]))\n",
    "df.loc[(df.season == 'ti4'), 'tiprize'] = np.log(int(df[df['tour'] == 'The International 2014'].prizeusd.iloc[0]))\n",
    "df.loc[(df.season == 'ti5'), 'tiprize'] = np.log(int(df[df['tour'] == 'The International 2015'].prizeusd.iloc[0]))\n",
    "df.loc[(df.season == 'ti6'), 'tiprize'] = np.log(int(df[df['tour'] == 'The International 2016'].prizeusd.iloc[0]))\n",
    "df.loc[(df.season == 'ti7'), 'tiprize'] = np.log(int(df[df['tour'] == 'The International 2017'].prizeusd.iloc[0]))\n",
    "\n",
    "df['wdiffr'] = (df.prizeusd.apply(np.log) / df.tiprize) * df.diffr\n",
    "\n",
    "#cumulative sum of wdiffr\n",
    "cumsums = df[['id', 'start', 'wdiffr']].groupby(['id', 'start']).sum().groupby(level=0).cumsum()\n",
    "df = df.set_index(['id', 'start'])\n",
    "df['cumuwr'] = cumsums\n",
    "df = df.reset_index()\n",
    "df['wrating'] = df.cumuwr + df.init"
   ]
  },
  {
   "cell_type": "code",
   "execution_count": null,
   "metadata": {},
   "outputs": [],
   "source": [
    "df.head()"
   ]
  },
  {
   "cell_type": "code",
   "execution_count": null,
   "metadata": {},
   "outputs": [],
   "source": [
    "df.head()"
   ]
  },
  {
   "cell_type": "code",
   "execution_count": null,
   "metadata": {
    "collapsed": true
   },
   "outputs": [],
   "source": [
    "def PanelRegression(df):\n",
    "    from linearmodels import PanelOLS\n",
    "    "
   ]
  },
  {
   "cell_type": "code",
   "execution_count": null,
   "metadata": {
    "collapsed": true
   },
   "outputs": [],
   "source": []
  },
  {
   "cell_type": "code",
   "execution_count": null,
   "metadata": {
    "collapsed": true
   },
   "outputs": [],
   "source": []
  },
  {
   "cell_type": "code",
   "execution_count": null,
   "metadata": {
    "collapsed": true
   },
   "outputs": [],
   "source": []
  },
  {
   "cell_type": "code",
   "execution_count": null,
   "metadata": {
    "collapsed": true,
    "scrolled": false
   },
   "outputs": [],
   "source": [
    "player = 'arteezy'\n",
    "fig = plt.figure(figsize=(10, 6))\n",
    "ax = fig.gca()\n",
    "df[df['id'] == player][['wrating', 'age']].set_index('age').sort_index().plot(ax=ax)\n",
    "df[df['id'] == player][['wrating', 'tour', 'age', 'team', 'start']].set_index('age').sort_index()"
   ]
  },
  {
   "cell_type": "code",
   "execution_count": null,
   "metadata": {
    "collapsed": true
   },
   "outputs": [],
   "source": []
  }
 ],
 "metadata": {
  "kernelspec": {
   "display_name": "Python 3",
   "language": "python",
   "name": "python3"
  },
  "language_info": {
   "codemirror_mode": {
    "name": "ipython",
    "version": 3
   },
   "file_extension": ".py",
   "mimetype": "text/x-python",
   "name": "python",
   "nbconvert_exporter": "python",
   "pygments_lexer": "ipython3",
   "version": "3.6.3"
  }
 },
 "nbformat": 4,
 "nbformat_minor": 2
}
